{
 "cells": [
  {
   "cell_type": "code",
   "execution_count": 1,
   "id": "bc9402da-d648-4566-a213-af84a0662d53",
   "metadata": {},
   "outputs": [
    {
     "data": {
      "text/plain": [
       "'\\nKNN, or k-Nearest Neighbors, is a simple and versatile algorithm used for both classification and regression tasks. It works by finding the k data points in the training set that are closest to a given test point and making \\npredictions based on the majority class (for classification) or the average value (for regression) of those\\nneighbors.\\n'"
      ]
     },
     "execution_count": 1,
     "metadata": {},
     "output_type": "execute_result"
    }
   ],
   "source": [
    "#q1\n",
    "'''\n",
    "KNN, or k-Nearest Neighbors, is a simple and versatile algorithm used for both classification and regression tasks. It works by finding the k data points in the training set that are closest to a given test point and making \n",
    "predictions based on the majority class (for classification) or the average value (for regression) of those\n",
    "neighbors.\n",
    "'''"
   ]
  },
  {
   "cell_type": "code",
   "execution_count": 2,
   "id": "5e1d0f5a-0f85-4411-8d16-9c814eb8632a",
   "metadata": {},
   "outputs": [
    {
     "data": {
      "text/plain": [
       "'\\nThe choice of K is crucial in KNN. A small K may lead to noise sensitivity, while a large K may \\nsmooth out patterns. Common methods include cross-validation to find the optimal K that balances bias and variance.\\n'"
      ]
     },
     "execution_count": 2,
     "metadata": {},
     "output_type": "execute_result"
    }
   ],
   "source": [
    "#q2\n",
    "'''\n",
    "The choice of K is crucial in KNN. A small K may lead to noise sensitivity, while a large K may \n",
    "smooth out patterns. Common methods include cross-validation to find the optimal K that balances bias and variance.\n",
    "'''"
   ]
  },
  {
   "cell_type": "code",
   "execution_count": 3,
   "id": "5450f952-8bac-4c76-820f-256eee530ca3",
   "metadata": {},
   "outputs": [
    {
     "data": {
      "text/plain": [
       "'\\nKNN classifier predicts the class of a new data point based on the majority class of its k nearest\\nneighbors, while KNN regressor predicts a continuous value based on the average value of its k nearest neighbors.\\n'"
      ]
     },
     "execution_count": 3,
     "metadata": {},
     "output_type": "execute_result"
    }
   ],
   "source": [
    "#q3\n",
    "'''\n",
    "KNN classifier predicts the class of a new data point based on the majority class of its k nearest\n",
    "neighbors, while KNN regressor predicts a continuous value based on the average value of its k nearest neighbors.\n",
    "'''"
   ]
  },
  {
   "cell_type": "code",
   "execution_count": 4,
   "id": "eab50fd3-9380-476c-857d-0f0d3c3e55fc",
   "metadata": {},
   "outputs": [
    {
     "data": {
      "text/plain": [
       "'\\nommon metrics for classification include accuracy, precision, recall, F1 score, and ROC-AUC. For \\nregression tasks, metrics like Mean Absolute Error (MAE), Mean Squared Error (MSE), and R-squared are commonly used.\\n'"
      ]
     },
     "execution_count": 4,
     "metadata": {},
     "output_type": "execute_result"
    }
   ],
   "source": [
    "#q4\n",
    "'''\n",
    "ommon metrics for classification include accuracy, precision, recall, F1 score, and ROC-AUC. For \n",
    "regression tasks, metrics like Mean Absolute Error (MAE), Mean Squared Error (MSE), and R-squared are commonly used.\n",
    "'''"
   ]
  },
  {
   "cell_type": "code",
   "execution_count": 5,
   "id": "cd725173-a49a-4013-9428-99fdc7f15418",
   "metadata": {},
   "outputs": [
    {
     "data": {
      "text/plain": [
       "\"\\nmpute missing values by considering the average or weighted average of the \\navailable neighbors' values. There are various imputation strategies, such as mean imputation or k-NN imputation.\\n\""
      ]
     },
     "execution_count": 5,
     "metadata": {},
     "output_type": "execute_result"
    }
   ],
   "source": [
    "#q6\n",
    "'''\n",
    "mpute missing values by considering the average or weighted average of the \n",
    "available neighbors' values. There are various imputation strategies, such as mean imputation or k-NN imputation.\n",
    "'''"
   ]
  },
  {
   "cell_type": "code",
   "execution_count": 6,
   "id": "2b0f07f2-d3ea-4fbd-9ed2-55465cd5e590",
   "metadata": {},
   "outputs": [
    {
     "data": {
      "text/plain": [
       "'\\nThis involves evaluating the algorithms on various datasets and \\nunderstanding their strengths and weaknesses. It depends on the nature of the problem: classification or regression.\\n'"
      ]
     },
     "execution_count": 6,
     "metadata": {},
     "output_type": "execute_result"
    }
   ],
   "source": [
    "#q7\n",
    "'''\n",
    "This involves evaluating the algorithms on various datasets and \n",
    "understanding their strengths and weaknesses. It depends on the nature of the problem: classification or regression.\n",
    "'''"
   ]
  },
  {
   "cell_type": "code",
   "execution_count": null,
   "id": "fa221eb1-6f86-43cc-a895-1bdab97a824a",
   "metadata": {},
   "outputs": [],
   "source": [
    "#q8\n",
    "'''\n"
   ]
  }
 ],
 "metadata": {
  "kernelspec": {
   "display_name": "Python 3 (ipykernel)",
   "language": "python",
   "name": "python3"
  },
  "language_info": {
   "codemirror_mode": {
    "name": "ipython",
    "version": 3
   },
   "file_extension": ".py",
   "mimetype": "text/x-python",
   "name": "python",
   "nbconvert_exporter": "python",
   "pygments_lexer": "ipython3",
   "version": "3.10.8"
  }
 },
 "nbformat": 4,
 "nbformat_minor": 5
}
