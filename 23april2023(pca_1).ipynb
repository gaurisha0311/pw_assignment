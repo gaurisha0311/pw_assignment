{
 "cells": [
  {
   "cell_type": "code",
   "execution_count": 1,
   "id": "a97cac34-0d3a-4e4b-b606-1327daa9467f",
   "metadata": {},
   "outputs": [
    {
     "data": {
      "text/plain": [
       "'\\nCurse of Dimensionality:\\n\\nRefers to the challenges and issues that arise when dealing with high-dimensional data.\\nAs the number of dimensions increases, the volume of the feature space grows exponentially\\n\\nImportance in Machine Learning:\\nIncreased computational complexity.\\nReduced model generalization and increased risk of overfitting.\\nDifficulty in visualizing and interpreting high-dimensional data.\\nChallenges in identifying relevant features.\\n'"
      ]
     },
     "execution_count": 1,
     "metadata": {},
     "output_type": "execute_result"
    }
   ],
   "source": [
    "#q1\n",
    "'''\n",
    "Curse of Dimensionality:\n",
    "\n",
    "Refers to the challenges and issues that arise when dealing with high-dimensional data.\n",
    "As the number of dimensions increases, the volume of the feature space grows exponentially\n",
    "\n",
    "Importance in Machine Learning:\n",
    "Increased computational complexity.\n",
    "Reduced model generalization and increased risk of overfitting.\n",
    "Difficulty in visualizing and interpreting high-dimensional data.\n",
    "Challenges in identifying relevant features.\n",
    "'''"
   ]
  },
  {
   "cell_type": "code",
   "execution_count": 2,
   "id": "63e5a450-a646-4c91-ad1d-f1f4865f56d3",
   "metadata": {},
   "outputs": [
    {
     "data": {
      "text/plain": [
       "'\\nIncreased computational requirements.\\nDecreased effectiveness of distance-based algorithms (e.g., k-NN) due to all points becoming equidistant in \\nhigh-dimensional space.\\nReduced generalization performance, leading to overfitting.\\n'"
      ]
     },
     "execution_count": 2,
     "metadata": {},
     "output_type": "execute_result"
    }
   ],
   "source": [
    "#q2\n",
    "'''\n",
    "Increased computational requirements.\n",
    "Decreased effectiveness of distance-based algorithms (e.g., k-NN) due to all points becoming equidistant in \n",
    "high-dimensional space.\n",
    "Reduced generalization performance, leading to overfitting.\n",
    "'''"
   ]
  },
  {
   "cell_type": "code",
   "execution_count": 3,
   "id": "ceaad9e9-335d-4711-9d19-0ffe8496f4e1",
   "metadata": {},
   "outputs": [
    {
     "data": {
      "text/plain": [
       "'\\nConsequences:\\n\\nIncreased data sparsity.\\nDiminished effectiveness of certain algorithms.\\nChallenges in finding representative samples.\\nOveremphasis on noise, leading to overfitting.\\nImpact on Model Performance:\\n\\nReduced accuracy and generalization.\\nDifficulty in model interpretation and feature importance assessment.\\n'"
      ]
     },
     "execution_count": 3,
     "metadata": {},
     "output_type": "execute_result"
    }
   ],
   "source": [
    "#q3\n",
    "'''\n",
    "Consequences:\n",
    "\n",
    "Increased data sparsity.\n",
    "Diminished effectiveness of certain algorithms.\n",
    "Challenges in finding representative samples.\n",
    "Overemphasis on noise, leading to overfitting.\n",
    "Impact on Model Performance:\n",
    "\n",
    "Reduced accuracy and generalization.\n",
    "Difficulty in model interpretation and feature importance assessment.\n",
    "'''"
   ]
  },
  {
   "cell_type": "code",
   "execution_count": 4,
   "id": "04abb528-4c99-4b04-9a3d-fb8d975779cb",
   "metadata": {},
   "outputs": [
    {
     "data": {
      "text/plain": [
       "'\\nLimitations:\\n\\nLoss of information: Some techniques may discard relevant information.\\nSensitivity to hyperparameters: Performance depends on parameter tuning.\\nNon-linear relationships: Linear techniques may not capture complex relationships.\\nDrawbacks:\\n\\nOverfitting in some scenarios.\\nDifficulty in choosing the right method for specific datasets.\\nComputational cost in some cases.\\n'"
      ]
     },
     "execution_count": 4,
     "metadata": {},
     "output_type": "execute_result"
    }
   ],
   "source": [
    "#q5\n",
    "'''\n",
    "Limitations:\n",
    "\n",
    "Loss of information: Some techniques may discard relevant information.\n",
    "Sensitivity to hyperparameters: Performance depends on parameter tuning.\n",
    "Non-linear relationships: Linear techniques may not capture complex relationships.\n",
    "Drawbacks:\n",
    "\n",
    "Overfitting in some scenarios.\n",
    "Difficulty in choosing the right method for specific datasets.\n",
    "Computational cost in some cases.\n",
    "'''"
   ]
  },
  {
   "cell_type": "code",
   "execution_count": 5,
   "id": "5fb789cf-d49c-4433-b374-964d5e839187",
   "metadata": {},
   "outputs": [
    {
     "data": {
      "text/plain": [
       "'\\nHigh-dimensional spaces provide more opportunities for overfitting as models can fit noise.\\nOverfitting can occur when models are too complex relative to the available data.\\nIn contrast, underfitting may occur if the model is too simple to capture underlying patterns in high-dimensional\\ndata.\\n'"
      ]
     },
     "execution_count": 5,
     "metadata": {},
     "output_type": "execute_result"
    }
   ],
   "source": [
    "#q6\n",
    "'''\n",
    "High-dimensional spaces provide more opportunities for overfitting as models can fit noise.\n",
    "Overfitting can occur when models are too complex relative to the available data.\n",
    "In contrast, underfitting may occur if the model is too simple to capture underlying patterns in high-dimensional\n",
    "data.\n",
    "'''"
   ]
  },
  {
   "cell_type": "code",
   "execution_count": 6,
   "id": "bf9b2968-bafe-476f-aacb-a95e0949966f",
   "metadata": {},
   "outputs": [
    {
     "data": {
      "text/plain": [
       "'\\nCross-validation techniques can be used to evaluate model performance for different dimensionality values.\\nScree plots or explained variance plots from techniques like PCA can help identify the point of diminishing\\nreturns.\\nConsider domain knowledge and the trade-off between computational efficiency and information retention.\\n'"
      ]
     },
     "execution_count": 6,
     "metadata": {},
     "output_type": "execute_result"
    }
   ],
   "source": [
    "#q7\n",
    "'''\n",
    "Cross-validation techniques can be used to evaluate model performance for different dimensionality values.\n",
    "Scree plots or explained variance plots from techniques like PCA can help identify the point of diminishing\n",
    "returns.\n",
    "Consider domain knowledge and the trade-off between computational efficiency and information retention.\n",
    "'''"
   ]
  },
  {
   "cell_type": "code",
   "execution_count": null,
   "id": "4d5eca23-97fa-4801-aa13-fcc8d74772ef",
   "metadata": {},
   "outputs": [],
   "source": []
  }
 ],
 "metadata": {
  "kernelspec": {
   "display_name": "Python 3 (ipykernel)",
   "language": "python",
   "name": "python3"
  },
  "language_info": {
   "codemirror_mode": {
    "name": "ipython",
    "version": 3
   },
   "file_extension": ".py",
   "mimetype": "text/x-python",
   "name": "python",
   "nbconvert_exporter": "python",
   "pygments_lexer": "ipython3",
   "version": "3.10.8"
  }
 },
 "nbformat": 4,
 "nbformat_minor": 5
}
