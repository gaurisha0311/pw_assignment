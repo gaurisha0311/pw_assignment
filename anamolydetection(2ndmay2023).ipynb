{
 "cells": [
  {
   "cell_type": "code",
   "execution_count": 1,
   "id": "eb68e825-5be6-4d76-995a-01360333b472",
   "metadata": {},
   "outputs": [
    {
     "data": {
      "text/plain": [
       "'\\nAnomaly detection, also known as outlier detection, is the identification of patterns or instances that deviate \\nsignificantly from the norm in a dataset.\\nPurpose: Detect unusual, rare, or unexpected events or patterns that may indicate potential issues, errors, \\nor fraudulent activities.\\n'"
      ]
     },
     "execution_count": 1,
     "metadata": {},
     "output_type": "execute_result"
    }
   ],
   "source": [
    "#q1\n",
    "'''\n",
    "Anomaly detection, also known as outlier detection, is the identification of patterns or instances that deviate \n",
    "significantly from the norm in a dataset.\n",
    "Purpose: Detect unusual, rare, or unexpected events or patterns that may indicate potential issues, errors, \n",
    "or fraudulent activities.\n",
    "'''"
   ]
  },
  {
   "cell_type": "code",
   "execution_count": 2,
   "id": "4afc465b-ecc0-49b3-8d26-f0091f12cb24",
   "metadata": {},
   "outputs": [
    {
     "data": {
      "text/plain": [
       "'\\nLack of labeled anomalous data for supervised learning.\\nDynamic nature of data and evolving anomalies.\\nImbalance between normal and anomalous instances.\\nSensitivity to the choice of algorithm and parameters.\\n'"
      ]
     },
     "execution_count": 2,
     "metadata": {},
     "output_type": "execute_result"
    }
   ],
   "source": [
    "#q2\n",
    "'''\n",
    "Lack of labeled anomalous data for supervised learning.\n",
    "Dynamic nature of data and evolving anomalies.\n",
    "Imbalance between normal and anomalous instances.\n",
    "Sensitivity to the choice of algorithm and parameters.\n",
    "'''"
   ]
  },
  {
   "cell_type": "code",
   "execution_count": 3,
   "id": "ddf9c991-5efc-4028-b04c-ef8cc3d39d60",
   "metadata": {},
   "outputs": [
    {
     "data": {
      "text/plain": [
       "'\\nCategories:\\nStatistical Methods: Based on statistical properties of data.\\nMachine Learning Approaches: Utilize models trained on normal data to detect anomalies.\\nProximity-Based Methods: Measure distances or similarities between data points.\\n'"
      ]
     },
     "execution_count": 3,
     "metadata": {},
     "output_type": "execute_result"
    }
   ],
   "source": [
    "#q4\n",
    "'''\n",
    "Categories:\n",
    "Statistical Methods: Based on statistical properties of data.\n",
    "Machine Learning Approaches: Utilize models trained on normal data to detect anomalies.\n",
    "Proximity-Based Methods: Measure distances or similarities between data points.\n",
    "'''"
   ]
  },
  {
   "cell_type": "code",
   "execution_count": 4,
   "id": "32a95472-26d0-472a-b673-ec31c7af7781",
   "metadata": {},
   "outputs": [
    {
     "data": {
      "text/plain": [
       "'\\nNormal instances form dense regions, and anomalies are isolated points.\\nAnomalies have different characteristics or behaviors.\\n'"
      ]
     },
     "execution_count": 4,
     "metadata": {},
     "output_type": "execute_result"
    }
   ],
   "source": [
    "#q5\n",
    "'''\n",
    "Normal instances form dense regions, and anomalies are isolated points.\n",
    "Anomalies have different characteristics or behaviors.\n",
    "'''"
   ]
  },
  {
   "cell_type": "code",
   "execution_count": 5,
   "id": "d88622dc-0a68-4cad-8cd8-4e412ef3da3c",
   "metadata": {},
   "outputs": [
    {
     "data": {
      "text/plain": [
       "'\\nMeasures the local density deviation of a data point with respect to its neighbors.\\nAnomaly score is computed by comparing the density of a point to the density of its neighbors.\\nLow-density points with high LOF values are considered anomalies\\n'"
      ]
     },
     "execution_count": 5,
     "metadata": {},
     "output_type": "execute_result"
    }
   ],
   "source": [
    "#q6\n",
    "'''\n",
    "Measures the local density deviation of a data point with respect to its neighbors.\n",
    "Anomaly score is computed by comparing the density of a point to the density of its neighbors.\n",
    "Low-density points with high LOF values are considered anomalies\n",
    "'''"
   ]
  },
  {
   "cell_type": "code",
   "execution_count": 6,
   "id": "2aeee096-f3d9-4529-82f4-27f667fac009",
   "metadata": {},
   "outputs": [
    {
     "data": {
      "text/plain": [
       "'\\nNumber of Trees (n_estimators): The number of isolation trees in the forest.\\nSubsample Size (max_samples): The number of samples used to build each tree.\\n'"
      ]
     },
     "execution_count": 6,
     "metadata": {},
     "output_type": "execute_result"
    }
   ],
   "source": [
    "#q7\n",
    "'''\n",
    "Number of Trees (n_estimators): The number of isolation trees in the forest.\n",
    "Subsample Size (max_samples): The number of samples used to build each tree.\n",
    "'''"
   ]
  },
  {
   "cell_type": "code",
   "execution_count": 8,
   "id": "3f77fffe-ddcb-42df-bf4c-590c682bbd35",
   "metadata": {},
   "outputs": [
    {
     "data": {
      "text/plain": [
       "'\\nAnomaly score is computed based on the distance to the k-th neighbor.\\nIf K=10 and there are only 2 neighbors within a radius of 0.5, the anomaly score may be high, indicating an\\nisolated point.\\n'"
      ]
     },
     "execution_count": 8,
     "metadata": {},
     "output_type": "execute_result"
    }
   ],
   "source": [
    "#q8\n",
    "'''\n",
    "Anomaly score is computed based on the distance to the k-th neighbor.\n",
    "If K=10 and there are only 2 neighbors within a radius of 0.5, the anomaly score may be high, indicating an\n",
    "isolated point.\n",
    "'''"
   ]
  },
  {
   "cell_type": "code",
   "execution_count": null,
   "id": "f26c24a8-5250-4961-af1c-90abefe44c6e",
   "metadata": {},
   "outputs": [],
   "source": [
    "#q9\n",
    "'''\n",
    "Anomaly score is inversely proportional to the average path length.\n",
    "Lower average path length indicates higher isolation, thus a lower anomaly score.\n",
    "The anomaly score would be lower for a data point with an average path length of 5.0 compared to the average path length of the trees."
   ]
  }
 ],
 "metadata": {
  "kernelspec": {
   "display_name": "Python 3 (ipykernel)",
   "language": "python",
   "name": "python3"
  },
  "language_info": {
   "codemirror_mode": {
    "name": "ipython",
    "version": 3
   },
   "file_extension": ".py",
   "mimetype": "text/x-python",
   "name": "python",
   "nbconvert_exporter": "python",
   "pygments_lexer": "ipython3",
   "version": "3.10.8"
  }
 },
 "nbformat": 4,
 "nbformat_minor": 5
}
