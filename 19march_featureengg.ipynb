{
 "cells": [
  {
   "cell_type": "code",
   "execution_count": 1,
   "id": "2d169d47-b2de-4df1-94e7-2d896f7c0432",
   "metadata": {},
   "outputs": [
    {
     "data": {
      "text/plain": [
       "'\\nMin-Max scaling is a data normalization technique used in data preprocessing. It rescales features to a fixed range, \\ntypically between 0 and 1. The formula for Min-Max scaling is:\\n\\n\\n  is the maximum value of the feature in the dataset.\\n\\nExample: Suppose we have a dataset of housing prices with a feature \"area\" ranging from 500 to 2000 square feet.\\nTo apply Min-Max scaling to this feature, we subtract the minimum value (500) and divide by the range\\n(2000 - 500 = 1500) for each value in the \"area\" feature.\\n'"
      ]
     },
     "execution_count": 1,
     "metadata": {},
     "output_type": "execute_result"
    }
   ],
   "source": [
    "#q1\n",
    "'''\n",
    "Min-Max scaling is a data normalization technique used in data preprocessing. It rescales features to a fixed range, \n",
    "typically between 0 and 1. The formula for Min-Max scaling is:\n",
    "\n",
    "\n",
    "  is the maximum value of the feature in the dataset.\n",
    "\n",
    "Example: Suppose we have a dataset of housing prices with a feature \"area\" ranging from 500 to 2000 square feet.\n",
    "To apply Min-Max scaling to this feature, we subtract the minimum value (500) and divide by the range\n",
    "(2000 - 500 = 1500) for each value in the \"area\" feature.\n",
    "'''"
   ]
  },
  {
   "cell_type": "code",
   "execution_count": 2,
   "id": "2d4711f0-c474-4f6e-9eeb-be8b24a768a2",
   "metadata": {},
   "outputs": [
    {
     "data": {
      "text/plain": [
       "'\\nThe Unit Vector technique in feature scaling normalizes features by dividing each feature vector by its magnitude,\\nresulting in a unit length vector. This technique ensures that each feature falls within the range of -1 to 1. \\nUnlike Min-Max scaling, it doesn\\'t depend on the minimum and maximum values of the feature.\\n\\nExample: Suppose we have a dataset with two features: \"height\" and \"weight.\" To apply the unit vector technique,\\neach feature vector would be divided by its magnitude to obtain a unit length vector.\\n'"
      ]
     },
     "execution_count": 2,
     "metadata": {},
     "output_type": "execute_result"
    }
   ],
   "source": [
    "#q2\n",
    "'''\n",
    "The Unit Vector technique in feature scaling normalizes features by dividing each feature vector by its magnitude,\n",
    "resulting in a unit length vector. This technique ensures that each feature falls within the range of -1 to 1. \n",
    "Unlike Min-Max scaling, it doesn't depend on the minimum and maximum values of the feature.\n",
    "\n",
    "Example: Suppose we have a dataset with two features: \"height\" and \"weight.\" To apply the unit vector technique,\n",
    "each feature vector would be divided by its magnitude to obtain a unit length vector.\n",
    "'''"
   ]
  },
  {
   "cell_type": "code",
   "execution_count": 3,
   "id": "a6e0706b-dd4e-4f9c-9df2-ab3fa63e8852",
   "metadata": {},
   "outputs": [
    {
     "data": {
      "text/plain": [
       "\"\\nPCA (Principal Component Analysis) is a statistical technique used for dimensionality reduction. It transforms the \\noriginal features into a new set of uncorrelated variables called principal components. These components are\\nordered by the amount of variance they explain in the data.\\n\\nExample: In a dataset containing information about customers' purchases across various product categories, PCA can\\nbe used to identify the principal components that capture the most significant variation in purchase behavior.\\n\""
      ]
     },
     "execution_count": 3,
     "metadata": {},
     "output_type": "execute_result"
    }
   ],
   "source": [
    "#q3\n",
    "'''\n",
    "PCA (Principal Component Analysis) is a statistical technique used for dimensionality reduction. It transforms the \n",
    "original features into a new set of uncorrelated variables called principal components. These components are\n",
    "ordered by the amount of variance they explain in the data.\n",
    "\n",
    "Example: In a dataset containing information about customers' purchases across various product categories, PCA can\n",
    "be used to identify the principal components that capture the most significant variation in purchase behavior.\n",
    "'''\n"
   ]
  },
  {
   "cell_type": "code",
   "execution_count": 4,
   "id": "3a685116-bdbc-4816-b42b-ceb24faa0c11",
   "metadata": {},
   "outputs": [
    {
     "data": {
      "text/plain": [
       "'\\n PCA can be used for feature extraction by transforming the original features into a lower-dimensional space \\n defined by the principal components. This reduces the dimensionality of the data while retaining as much of the\\n original variance as possible.\\n\\nExample: In a dataset containing images, PCA can be applied to extract features that represent the most important\\npatterns or characteristics in the images, such as edges or textures.\\n'"
      ]
     },
     "execution_count": 4,
     "metadata": {},
     "output_type": "execute_result"
    }
   ],
   "source": [
    "#q4\n",
    "'''\n",
    " PCA can be used for feature extraction by transforming the original features into a lower-dimensional space \n",
    " defined by the principal components. This reduces the dimensionality of the data while retaining as much of the\n",
    " original variance as possible.\n",
    "\n",
    "Example: In a dataset containing images, PCA can be applied to extract features that represent the most important\n",
    "patterns or characteristics in the images, such as edges or textures.\n",
    "'''"
   ]
  },
  {
   "cell_type": "code",
   "execution_count": 5,
   "id": "0461438f-b76a-486a-b49d-5d607611f822",
   "metadata": {},
   "outputs": [
    {
     "data": {
      "text/plain": [
       "'\\nIdentify the features such as price, rating, and delivery time.\\nCompute the minimum and maximum values for each feature in the dataset.\\nApply the Min-Max scaling formula to scale each feature to the range of 0 to 1.\\n'"
      ]
     },
     "execution_count": 5,
     "metadata": {},
     "output_type": "execute_result"
    }
   ],
   "source": [
    "#q5\n",
    "'''\n",
    "Identify the features such as price, rating, and delivery time.\n",
    "Compute the minimum and maximum values for each feature in the dataset.\n",
    "Apply the Min-Max scaling formula to scale each feature to the range of 0 to 1.\n",
    "'''"
   ]
  },
  {
   "cell_type": "code",
   "execution_count": 6,
   "id": "3d987799-ae96-44a2-ab3f-a00efdfe128d",
   "metadata": {},
   "outputs": [
    {
     "data": {
      "text/plain": [
       "'\\nIdentify the features such as company financial data and market trends.\\nStandardize the features if necessary.\\nApply PCA to transform the features into a lower-dimensional space.\\nChoose the number of principal components based on the amount of variance explained and computational efficiency.\\n'"
      ]
     },
     "execution_count": 6,
     "metadata": {},
     "output_type": "execute_result"
    }
   ],
   "source": [
    "#q6\n",
    "'''\n",
    "Identify the features such as company financial data and market trends.\n",
    "Standardize the features if necessary.\n",
    "Apply PCA to transform the features into a lower-dimensional space.\n",
    "Choose the number of principal components based on the amount of variance explained and computational efficiency.\n",
    "'''"
   ]
  },
  {
   "cell_type": "code",
   "execution_count": null,
   "id": "2e888128-32b5-4d4f-a043-6f811fe898e1",
   "metadata": {},
   "outputs": [],
   "source": [
    "#q8\n",
    "'''\n"
   ]
  }
 ],
 "metadata": {
  "kernelspec": {
   "display_name": "Python 3 (ipykernel)",
   "language": "python",
   "name": "python3"
  },
  "language_info": {
   "codemirror_mode": {
    "name": "ipython",
    "version": 3
   },
   "file_extension": ".py",
   "mimetype": "text/x-python",
   "name": "python",
   "nbconvert_exporter": "python",
   "pygments_lexer": "ipython3",
   "version": "3.10.8"
  }
 },
 "nbformat": 4,
 "nbformat_minor": 5
}
