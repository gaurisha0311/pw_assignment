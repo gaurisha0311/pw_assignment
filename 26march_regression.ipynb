{
 "cells": [
  {
   "cell_type": "code",
   "execution_count": 1,
   "id": "80c566c4-8f57-41e9-bc66-297bbe34f8bb",
   "metadata": {},
   "outputs": [
    {
     "data": {
      "text/plain": [
       "\"\\nSimple Linear Regression: In simple linear regression, there is only one independent variable (predictor) used to\\npredict the dependent variable (response). The relationship between the independent and dependent variables is\\nmodeled using a straight line equation.\\nExample: Predicting a student's exam score based on the number of hours they studied.\\n\\nMultiple Linear Regression: In multiple linear regression, there are multiple independent variables used to \\npredict the dependent variable. The relationship between the independent variables and the dependent variable is\\nmodeled using a linear equation involving multiple coefficients.\\nExample: Predicting a house price based on features such as square footage, number of bedrooms, and location.\\n\""
      ]
     },
     "execution_count": 1,
     "metadata": {},
     "output_type": "execute_result"
    }
   ],
   "source": [
    "#q1\n",
    "'''\n",
    "Simple Linear Regression: In simple linear regression, there is only one independent variable (predictor) used to\n",
    "predict the dependent variable (response). The relationship between the independent and dependent variables is\n",
    "modeled using a straight line equation.\n",
    "Example: Predicting a student's exam score based on the number of hours they studied.\n",
    "\n",
    "Multiple Linear Regression: In multiple linear regression, there are multiple independent variables used to \n",
    "predict the dependent variable. The relationship between the independent variables and the dependent variable is\n",
    "modeled using a linear equation involving multiple coefficients.\n",
    "Example: Predicting a house price based on features such as square footage, number of bedrooms, and location.\n",
    "'''"
   ]
  },
  {
   "cell_type": "code",
   "execution_count": 2,
   "id": "c2a29f33-5b29-47ac-a40f-6abbaa05ad19",
   "metadata": {},
   "outputs": [
    {
     "data": {
      "text/plain": [
       "'\\nLinearity\\nIndependence of errors\\nHomoscedasticity (constant variance of errors)\\nNormality of errors\\n'"
      ]
     },
     "execution_count": 2,
     "metadata": {},
     "output_type": "execute_result"
    }
   ],
   "source": [
    "#q2\n",
    "'''\n",
    "Linearity\n",
    "Independence of errors\n",
    "Homoscedasticity (constant variance of errors)\n",
    "Normality of errors\n",
    "'''"
   ]
  },
  {
   "cell_type": "code",
   "execution_count": 3,
   "id": "63861689-96cd-47e9-a06e-65b2e8908978",
   "metadata": {},
   "outputs": [
    {
     "data": {
      "text/plain": [
       "'\\nSlope: It represents the change in the dependent variable for a one-unit change in the independent variable,\\nholding other variables constant.\\nIntercept: It represents the value of the dependent variable when all independent variables are zero.\\nExample: In a linear regression model predicting salary based on years of experience, the slope represents the\\nincrease in salary for each additional year of experience, and the intercept represents the starting salary for \\nsomeone with zero years of experience.\\n'"
      ]
     },
     "execution_count": 3,
     "metadata": {},
     "output_type": "execute_result"
    }
   ],
   "source": [
    "#q3\n",
    "'''\n",
    "Slope: It represents the change in the dependent variable for a one-unit change in the independent variable,\n",
    "holding other variables constant.\n",
    "Intercept: It represents the value of the dependent variable when all independent variables are zero.\n",
    "Example: In a linear regression model predicting salary based on years of experience, the slope represents the\n",
    "increase in salary for each additional year of experience, and the intercept represents the starting salary for \n",
    "someone with zero years of experience.\n",
    "'''"
   ]
  },
  {
   "cell_type": "code",
   "execution_count": 4,
   "id": "641187ca-8e92-4c18-836f-1d64f3dcedc1",
   "metadata": {},
   "outputs": [
    {
     "data": {
      "text/plain": [
       "'\\nGradient descent is an optimization algorithm used to minimize the cost function in machine learning models.\\nIt works by iteratively updating the parameters (coefficients) of the model in the direction of the steepest\\ndescent of the cost function. This process continues until convergence to find the optimal parameters that minimize\\nthe cost function.\\n'"
      ]
     },
     "execution_count": 4,
     "metadata": {},
     "output_type": "execute_result"
    }
   ],
   "source": [
    "#q4\n",
    "'''\n",
    "Gradient descent is an optimization algorithm used to minimize the cost function in machine learning models.\n",
    "It works by iteratively updating the parameters (coefficients) of the model in the direction of the steepest\n",
    "descent of the cost function. This process continues until convergence to find the optimal parameters that minimize\n",
    "the cost function.\n",
    "'''"
   ]
  },
  {
   "cell_type": "code",
   "execution_count": null,
   "id": "f0eba8e3-437d-4f33-aab6-de6decd1d033",
   "metadata": {},
   "outputs": [],
   "source": [
    "#q5\n",
    "'''\n"
   ]
  }
 ],
 "metadata": {
  "kernelspec": {
   "display_name": "Python 3 (ipykernel)",
   "language": "python",
   "name": "python3"
  },
  "language_info": {
   "codemirror_mode": {
    "name": "ipython",
    "version": 3
   },
   "file_extension": ".py",
   "mimetype": "text/x-python",
   "name": "python",
   "nbconvert_exporter": "python",
   "pygments_lexer": "ipython3",
   "version": "3.10.8"
  }
 },
 "nbformat": 4,
 "nbformat_minor": 5
}
