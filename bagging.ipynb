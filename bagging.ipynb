{
 "cells": [
  {
   "cell_type": "code",
   "execution_count": 1,
   "id": "0486c63e",
   "metadata": {},
   "outputs": [
    {
     "ename": "ModuleNotFoundError",
     "evalue": "No module named 'matplotlib'",
     "output_type": "error",
     "traceback": [
      "\u001b[31m---------------------------------------------------------------------------\u001b[39m",
      "\u001b[31mModuleNotFoundError\u001b[39m                       Traceback (most recent call last)",
      "\u001b[36mCell\u001b[39m\u001b[36m \u001b[39m\u001b[32mIn[1]\u001b[39m\u001b[32m, line 9\u001b[39m\n\u001b[32m      7\u001b[39m \u001b[38;5;28;01mfrom\u001b[39;00m\u001b[38;5;250m \u001b[39m\u001b[34;01msklearn\u001b[39;00m\u001b[34;01m.\u001b[39;00m\u001b[34;01mmetrics\u001b[39;00m\u001b[38;5;250m \u001b[39m\u001b[38;5;28;01mimport\u001b[39;00m accuracy_score, mean_squared_error, roc_auc_score\n\u001b[32m      8\u001b[39m \u001b[38;5;28;01mfrom\u001b[39;00m\u001b[38;5;250m \u001b[39m\u001b[34;01msklearn\u001b[39;00m\u001b[34;01m.\u001b[39;00m\u001b[34;01mmodel_selection\u001b[39;00m\u001b[38;5;250m \u001b[39m\u001b[38;5;28;01mimport\u001b[39;00m train_test_split\n\u001b[32m----> \u001b[39m\u001b[32m9\u001b[39m \u001b[38;5;28;01mimport\u001b[39;00m\u001b[38;5;250m \u001b[39m\u001b[34;01mmatplotlib\u001b[39;00m\u001b[34;01m.\u001b[39;00m\u001b[34;01mpyplot\u001b[39;00m\u001b[38;5;250m \u001b[39m\u001b[38;5;28;01mas\u001b[39;00m\u001b[38;5;250m \u001b[39m\u001b[34;01mplt\u001b[39;00m\n\u001b[32m     10\u001b[39m \u001b[38;5;28;01mimport\u001b[39;00m\u001b[38;5;250m \u001b[39m\u001b[34;01mnumpy\u001b[39;00m\u001b[38;5;250m \u001b[39m\u001b[38;5;28;01mas\u001b[39;00m\u001b[38;5;250m \u001b[39m\u001b[34;01mnp\u001b[39;00m\n",
      "\u001b[31mModuleNotFoundError\u001b[39m: No module named 'matplotlib'"
     ]
    }
   ],
   "source": [
    "#q21\n",
    "from sklearn.datasets import make_classification, make_regression, load_breast_cancer\n",
    "from sklearn.ensemble import BaggingClassifier, BaggingRegressor, RandomForestClassifier, RandomForestRegressor\n",
    "from sklearn.tree import DecisionTreeClassifier, DecisionTreeRegressor\n",
    "from sklearn.linear_model import LogisticRegression\n",
    "from sklearn.svm import SVC\n",
    "from sklearn.metrics import accuracy_score, mean_squared_error, roc_auc_score\n",
    "from sklearn.model_selection import train_test_split\n",
    "import matplotlib.pyplot as plt\n",
    "import numpy as np"
   ]
  },
  {
   "cell_type": "code",
   "execution_count": 2,
   "id": "82465a54",
   "metadata": {},
   "outputs": [
    {
     "name": "stdout",
     "output_type": "stream",
     "text": [
      "Collecting matplotlib\n",
      "  Downloading matplotlib-3.10.3-cp311-cp311-win_amd64.whl.metadata (11 kB)\n",
      "Collecting contourpy>=1.0.1 (from matplotlib)\n",
      "  Downloading contourpy-1.3.2-cp311-cp311-win_amd64.whl.metadata (5.5 kB)\n",
      "Collecting cycler>=0.10 (from matplotlib)\n",
      "  Downloading cycler-0.12.1-py3-none-any.whl.metadata (3.8 kB)\n",
      "Collecting fonttools>=4.22.0 (from matplotlib)\n",
      "  Downloading fonttools-4.58.0-cp311-cp311-win_amd64.whl.metadata (106 kB)\n",
      "     ---------------------------------------- 0.0/106.6 kB ? eta -:--:--\n",
      "     ----------- --------------------------- 30.7/106.6 kB 1.4 MB/s eta 0:00:01\n",
      "     -------------------------------------- 106.6/106.6 kB 2.0 MB/s eta 0:00:00\n",
      "Collecting kiwisolver>=1.3.1 (from matplotlib)\n",
      "  Downloading kiwisolver-1.4.8-cp311-cp311-win_amd64.whl.metadata (6.3 kB)\n",
      "Requirement already satisfied: numpy>=1.23 in c:\\users\\dell\\appdata\\local\\packages\\pythonsoftwarefoundation.python.3.11_qbz5n2kfra8p0\\localcache\\local-packages\\python311\\site-packages (from matplotlib) (2.2.6)\n",
      "Requirement already satisfied: packaging>=20.0 in c:\\users\\dell\\appdata\\local\\packages\\pythonsoftwarefoundation.python.3.11_qbz5n2kfra8p0\\localcache\\local-packages\\python311\\site-packages (from matplotlib) (25.0)\n",
      "Collecting pillow>=8 (from matplotlib)\n",
      "  Downloading pillow-11.2.1-cp311-cp311-win_amd64.whl.metadata (9.1 kB)\n",
      "Collecting pyparsing>=2.3.1 (from matplotlib)\n",
      "  Downloading pyparsing-3.2.3-py3-none-any.whl.metadata (5.0 kB)\n",
      "Requirement already satisfied: python-dateutil>=2.7 in c:\\users\\dell\\appdata\\local\\packages\\pythonsoftwarefoundation.python.3.11_qbz5n2kfra8p0\\localcache\\local-packages\\python311\\site-packages (from matplotlib) (2.9.0.post0)\n",
      "Requirement already satisfied: six>=1.5 in c:\\users\\dell\\appdata\\local\\packages\\pythonsoftwarefoundation.python.3.11_qbz5n2kfra8p0\\localcache\\local-packages\\python311\\site-packages (from python-dateutil>=2.7->matplotlib) (1.17.0)\n",
      "Downloading matplotlib-3.10.3-cp311-cp311-win_amd64.whl (8.1 MB)\n",
      "   ---------------------------------------- 0.0/8.1 MB ? eta -:--:--\n",
      "   ---------------------------------------- 0.1/8.1 MB 4.5 MB/s eta 0:00:02\n",
      "   - -------------------------------------- 0.2/8.1 MB 3.0 MB/s eta 0:00:03\n",
      "   - -------------------------------------- 0.3/8.1 MB 2.3 MB/s eta 0:00:04\n",
      "   -- ------------------------------------- 0.4/8.1 MB 2.4 MB/s eta 0:00:04\n",
      "   -- ------------------------------------- 0.4/8.1 MB 1.8 MB/s eta 0:00:05\n",
      "   -- ------------------------------------- 0.5/8.1 MB 1.8 MB/s eta 0:00:05\n",
      "   --- ------------------------------------ 0.7/8.1 MB 2.0 MB/s eta 0:00:04\n",
      "   --- ------------------------------------ 0.7/8.1 MB 2.0 MB/s eta 0:00:04\n",
      "   --- ------------------------------------ 0.7/8.1 MB 2.0 MB/s eta 0:00:04\n",
      "   --- ------------------------------------ 0.7/8.1 MB 1.6 MB/s eta 0:00:05\n",
      "   --- ------------------------------------ 0.7/8.1 MB 1.4 MB/s eta 0:00:06\n",
      "   --- ------------------------------------ 0.8/8.1 MB 1.3 MB/s eta 0:00:06\n",
      "   ---- ----------------------------------- 0.9/8.1 MB 1.4 MB/s eta 0:00:06\n",
      "   ---- ----------------------------------- 1.0/8.1 MB 1.4 MB/s eta 0:00:06\n",
      "   ----- ---------------------------------- 1.0/8.1 MB 1.4 MB/s eta 0:00:06\n",
      "   ----- ---------------------------------- 1.0/8.1 MB 1.4 MB/s eta 0:00:06\n",
      "   ----- ---------------------------------- 1.0/8.1 MB 1.3 MB/s eta 0:00:06\n",
      "   ----- ---------------------------------- 1.0/8.1 MB 1.2 MB/s eta 0:00:06\n",
      "   ----- ---------------------------------- 1.1/8.1 MB 1.1 MB/s eta 0:00:07\n",
      "   ----- ---------------------------------- 1.1/8.1 MB 1.1 MB/s eta 0:00:07\n",
      "   ----- ---------------------------------- 1.1/8.1 MB 1.1 MB/s eta 0:00:07\n",
      "   ----- ---------------------------------- 1.1/8.1 MB 1.1 MB/s eta 0:00:07\n",
      "   ----- ---------------------------------- 1.1/8.1 MB 1.0 MB/s eta 0:00:07\n",
      "   ----- ---------------------------------- 1.2/8.1 MB 983.5 kB/s eta 0:00:08\n",
      "   ----- ---------------------------------- 1.2/8.1 MB 978.9 kB/s eta 0:00:08\n",
      "   ----- ---------------------------------- 1.2/8.1 MB 970.9 kB/s eta 0:00:08\n",
      "   ------ --------------------------------- 1.2/8.1 MB 925.3 kB/s eta 0:00:08\n",
      "   ------ --------------------------------- 1.2/8.1 MB 925.3 kB/s eta 0:00:08\n",
      "   ------ --------------------------------- 1.2/8.1 MB 925.3 kB/s eta 0:00:08\n",
      "   ------ --------------------------------- 1.3/8.1 MB 880.9 kB/s eta 0:00:08\n",
      "   ------ --------------------------------- 1.3/8.1 MB 856.1 kB/s eta 0:00:08\n",
      "   ------ --------------------------------- 1.3/8.1 MB 856.1 kB/s eta 0:00:08\n",
      "   ------ --------------------------------- 1.3/8.1 MB 835.1 kB/s eta 0:00:09\n",
      "   ------ --------------------------------- 1.4/8.1 MB 817.5 kB/s eta 0:00:09\n",
      "   ------ --------------------------------- 1.4/8.1 MB 817.5 kB/s eta 0:00:09\n",
      "   ------ --------------------------------- 1.4/8.1 MB 817.5 kB/s eta 0:00:09\n",
      "   ------ --------------------------------- 1.4/8.1 MB 756.2 kB/s eta 0:00:09\n",
      "   ------ --------------------------------- 1.4/8.1 MB 756.2 kB/s eta 0:00:09\n",
      "   ------ --------------------------------- 1.4/8.1 MB 724.6 kB/s eta 0:00:10\n",
      "   ------- -------------------------------- 1.4/8.1 MB 712.3 kB/s eta 0:00:10\n",
      "   ------- -------------------------------- 1.4/8.1 MB 712.3 kB/s eta 0:00:10\n",
      "   ------- -------------------------------- 1.4/8.1 MB 695.3 kB/s eta 0:00:10\n",
      "   ------- -------------------------------- 1.5/8.1 MB 683.9 kB/s eta 0:00:10\n",
      "   ------- -------------------------------- 1.5/8.1 MB 678.9 kB/s eta 0:00:10\n",
      "   ------- -------------------------------- 1.5/8.1 MB 673.8 kB/s eta 0:00:10\n",
      "   ------- -------------------------------- 1.5/8.1 MB 673.3 kB/s eta 0:00:10\n",
      "   ------- -------------------------------- 1.6/8.1 MB 673.2 kB/s eta 0:00:10\n",
      "   ------- -------------------------------- 1.6/8.1 MB 664.0 kB/s eta 0:00:10\n",
      "   ------- -------------------------------- 1.6/8.1 MB 655.3 kB/s eta 0:00:10\n",
      "   -------- ------------------------------- 1.6/8.1 MB 651.1 kB/s eta 0:00:10\n",
      "   -------- ------------------------------- 1.6/8.1 MB 651.3 kB/s eta 0:00:10\n",
      "   -------- ------------------------------- 1.7/8.1 MB 643.5 kB/s eta 0:00:10\n",
      "   -------- ------------------------------- 1.7/8.1 MB 643.5 kB/s eta 0:00:10\n",
      "   -------- ------------------------------- 1.7/8.1 MB 639.8 kB/s eta 0:00:10\n",
      "   -------- ------------------------------- 1.7/8.1 MB 629.2 kB/s eta 0:00:11\n",
      "   -------- ------------------------------- 1.8/8.1 MB 644.4 kB/s eta 0:00:10\n",
      "   --------- ------------------------------ 1.9/8.1 MB 655.4 kB/s eta 0:00:10\n",
      "   --------- ------------------------------ 1.9/8.1 MB 666.2 kB/s eta 0:00:10\n",
      "   --------- ------------------------------ 1.9/8.1 MB 662.4 kB/s eta 0:00:10\n",
      "   --------- ------------------------------ 2.0/8.1 MB 672.5 kB/s eta 0:00:10\n",
      "   ---------- ----------------------------- 2.1/8.1 MB 679.0 kB/s eta 0:00:09\n",
      "   ---------- ----------------------------- 2.1/8.1 MB 678.9 kB/s eta 0:00:09\n",
      "   ---------- ----------------------------- 2.2/8.1 MB 688.1 kB/s eta 0:00:09\n",
      "   ----------- ---------------------------- 2.2/8.1 MB 697.3 kB/s eta 0:00:09\n",
      "   ----------- ---------------------------- 2.3/8.1 MB 712.6 kB/s eta 0:00:09\n",
      "   ----------- ---------------------------- 2.4/8.1 MB 727.4 kB/s eta 0:00:08\n",
      "   ------------ --------------------------- 2.5/8.1 MB 744.6 kB/s eta 0:00:08\n",
      "   ------------ --------------------------- 2.5/8.1 MB 746.9 kB/s eta 0:00:08\n",
      "   ------------ --------------------------- 2.6/8.1 MB 750.8 kB/s eta 0:00:08\n",
      "   ------------- -------------------------- 2.6/8.1 MB 752.7 kB/s eta 0:00:08\n",
      "   ------------- -------------------------- 2.7/8.1 MB 768.5 kB/s eta 0:00:07\n",
      "   ------------- -------------------------- 2.8/8.1 MB 784.2 kB/s eta 0:00:07\n",
      "   -------------- ------------------------- 2.9/8.1 MB 802.3 kB/s eta 0:00:07\n",
      "   --------------- ------------------------ 3.0/8.1 MB 819.3 kB/s eta 0:00:07\n",
      "   --------------- ------------------------ 3.1/8.1 MB 842.5 kB/s eta 0:00:06\n",
      "   ---------------- ----------------------- 3.2/8.1 MB 855.8 kB/s eta 0:00:06\n",
      "   ---------------- ----------------------- 3.3/8.1 MB 869.4 kB/s eta 0:00:06\n",
      "   ---------------- ----------------------- 3.4/8.1 MB 874.7 kB/s eta 0:00:06\n",
      "   ----------------- ---------------------- 3.5/8.1 MB 889.5 kB/s eta 0:00:06\n",
      "   ------------------ --------------------- 3.7/8.1 MB 917.6 kB/s eta 0:00:05\n",
      "   ------------------- -------------------- 3.9/8.1 MB 955.2 kB/s eta 0:00:05\n",
      "   ------------------- -------------------- 4.0/8.1 MB 975.6 kB/s eta 0:00:05\n",
      "   -------------------- ------------------- 4.2/8.1 MB 1.0 MB/s eta 0:00:04\n",
      "   --------------------- ------------------ 4.3/8.1 MB 1.0 MB/s eta 0:00:04\n",
      "   --------------------- ------------------ 4.3/8.1 MB 1.0 MB/s eta 0:00:04\n",
      "   --------------------- ------------------ 4.3/8.1 MB 1.0 MB/s eta 0:00:04\n",
      "   --------------------- ------------------ 4.3/8.1 MB 1.0 MB/s eta 0:00:04\n",
      "   --------------------- ------------------ 4.4/8.1 MB 995.8 kB/s eta 0:00:04\n",
      "   --------------------- ------------------ 4.4/8.1 MB 997.0 kB/s eta 0:00:04\n",
      "   ---------------------- ----------------- 4.5/8.1 MB 1.0 MB/s eta 0:00:04\n",
      "   ---------------------- ----------------- 4.5/8.1 MB 1.0 MB/s eta 0:00:04\n",
      "   ---------------------- ----------------- 4.6/8.1 MB 1.0 MB/s eta 0:00:04\n",
      "   ----------------------- ---------------- 4.7/8.1 MB 1.0 MB/s eta 0:00:04\n",
      "   ----------------------- ---------------- 4.8/8.1 MB 1.0 MB/s eta 0:00:04\n",
      "   ------------------------ --------------- 4.9/8.1 MB 1.0 MB/s eta 0:00:04\n",
      "   ------------------------ --------------- 5.0/8.1 MB 1.0 MB/s eta 0:00:03\n",
      "   ------------------------- -------------- 5.1/8.1 MB 1.0 MB/s eta 0:00:03\n",
      "   ------------------------- -------------- 5.1/8.1 MB 1.1 MB/s eta 0:00:03\n",
      "   ------------------------- -------------- 5.2/8.1 MB 1.1 MB/s eta 0:00:03\n",
      "   -------------------------- ------------- 5.3/8.1 MB 1.1 MB/s eta 0:00:03\n",
      "   -------------------------- ------------- 5.4/8.1 MB 1.1 MB/s eta 0:00:03\n",
      "   --------------------------- ------------ 5.5/8.1 MB 1.1 MB/s eta 0:00:03\n",
      "   --------------------------- ------------ 5.6/8.1 MB 1.1 MB/s eta 0:00:03\n",
      "   ---------------------------- ----------- 5.7/8.1 MB 1.1 MB/s eta 0:00:03\n",
      "   ---------------------------- ----------- 5.8/8.1 MB 1.1 MB/s eta 0:00:02\n",
      "   ----------------------------- ---------- 6.0/8.1 MB 1.1 MB/s eta 0:00:02\n",
      "   ----------------------------- ---------- 6.0/8.1 MB 1.1 MB/s eta 0:00:02\n",
      "   ------------------------------ --------- 6.2/8.1 MB 1.1 MB/s eta 0:00:02\n",
      "   ------------------------------- -------- 6.3/8.1 MB 1.2 MB/s eta 0:00:02\n",
      "   ------------------------------- -------- 6.5/8.1 MB 1.2 MB/s eta 0:00:02\n",
      "   -------------------------------- ------- 6.6/8.1 MB 1.2 MB/s eta 0:00:02\n",
      "   -------------------------------- ------- 6.6/8.1 MB 1.2 MB/s eta 0:00:02\n",
      "   --------------------------------- ------ 6.7/8.1 MB 1.2 MB/s eta 0:00:02\n",
      "   ---------------------------------- ----- 6.9/8.1 MB 1.2 MB/s eta 0:00:02\n",
      "   ---------------------------------- ----- 7.0/8.1 MB 1.2 MB/s eta 0:00:01\n",
      "   ----------------------------------- ---- 7.1/8.1 MB 1.2 MB/s eta 0:00:01\n",
      "   ----------------------------------- ---- 7.2/8.1 MB 1.2 MB/s eta 0:00:01\n",
      "   ----------------------------------- ---- 7.2/8.1 MB 1.2 MB/s eta 0:00:01\n",
      "   ------------------------------------ --- 7.3/8.1 MB 1.2 MB/s eta 0:00:01\n",
      "   ------------------------------------- -- 7.5/8.1 MB 1.2 MB/s eta 0:00:01\n",
      "   ------------------------------------- -- 7.6/8.1 MB 1.3 MB/s eta 0:00:01\n",
      "   -------------------------------------- - 7.8/8.1 MB 1.3 MB/s eta 0:00:01\n",
      "   ---------------------------------------  7.9/8.1 MB 1.3 MB/s eta 0:00:01\n",
      "   ---------------------------------------- 8.1/8.1 MB 1.3 MB/s eta 0:00:00\n",
      "Downloading contourpy-1.3.2-cp311-cp311-win_amd64.whl (222 kB)\n",
      "   ---------------------------------------- 0.0/222.0 kB ? eta -:--:--\n",
      "   -------------------------------------- - 215.0/222.0 kB 6.6 MB/s eta 0:00:01\n",
      "   ---------------------------------------- 222.0/222.0 kB 6.8 MB/s eta 0:00:00\n",
      "Downloading cycler-0.12.1-py3-none-any.whl (8.3 kB)\n",
      "Downloading fonttools-4.58.0-cp311-cp311-win_amd64.whl (2.2 MB)\n",
      "   ---------------------------------------- 0.0/2.2 MB ? eta -:--:--\n",
      "   --- ------------------------------------ 0.2/2.2 MB 3.9 MB/s eta 0:00:01\n",
      "   ------ --------------------------------- 0.3/2.2 MB 4.2 MB/s eta 0:00:01\n",
      "   --------- ------------------------------ 0.5/2.2 MB 3.7 MB/s eta 0:00:01\n",
      "   ------------- -------------------------- 0.8/2.2 MB 4.0 MB/s eta 0:00:01\n",
      "   ---------------- ----------------------- 0.9/2.2 MB 3.9 MB/s eta 0:00:01\n",
      "   ------------------- -------------------- 1.1/2.2 MB 3.8 MB/s eta 0:00:01\n",
      "   ---------------------- ----------------- 1.3/2.2 MB 3.8 MB/s eta 0:00:01\n",
      "   ------------------------ --------------- 1.4/2.2 MB 3.6 MB/s eta 0:00:01\n",
      "   --------------------------- ------------ 1.6/2.2 MB 3.7 MB/s eta 0:00:01\n",
      "   ------------------------------ --------- 1.7/2.2 MB 3.6 MB/s eta 0:00:01\n",
      "   --------------------------------- ------ 1.9/2.2 MB 3.5 MB/s eta 0:00:01\n",
      "   ------------------------------------ --- 2.0/2.2 MB 3.5 MB/s eta 0:00:01\n",
      "   ---------------------------------------  2.2/2.2 MB 3.5 MB/s eta 0:00:01\n",
      "   ---------------------------------------  2.2/2.2 MB 3.2 MB/s eta 0:00:01\n",
      "   ---------------------------------------- 2.2/2.2 MB 3.2 MB/s eta 0:00:00\n",
      "Downloading kiwisolver-1.4.8-cp311-cp311-win_amd64.whl (71 kB)\n",
      "   ---------------------------------------- 0.0/72.0 kB ? eta -:--:--\n",
      "   ---------------------------------------- 72.0/72.0 kB 4.1 MB/s eta 0:00:00\n",
      "Downloading pillow-11.2.1-cp311-cp311-win_amd64.whl (2.7 MB)\n",
      "   ---------------------------------------- 0.0/2.7 MB ? eta -:--:--\n",
      "   -- ------------------------------------- 0.2/2.7 MB 5.3 MB/s eta 0:00:01\n",
      "   ---- ----------------------------------- 0.3/2.7 MB 3.4 MB/s eta 0:00:01\n",
      "   ------- -------------------------------- 0.5/2.7 MB 3.7 MB/s eta 0:00:01\n",
      "   --------- ------------------------------ 0.7/2.7 MB 3.4 MB/s eta 0:00:01\n",
      "   ------------ --------------------------- 0.8/2.7 MB 3.5 MB/s eta 0:00:01\n",
      "   -------------- ------------------------- 1.0/2.7 MB 3.4 MB/s eta 0:00:01\n",
      "   --------------- ------------------------ 1.1/2.7 MB 3.3 MB/s eta 0:00:01\n",
      "   ---------------- ----------------------- 1.1/2.7 MB 3.0 MB/s eta 0:00:01\n",
      "   ----------------- ---------------------- 1.2/2.7 MB 2.8 MB/s eta 0:00:01\n",
      "   -------------------- ------------------- 1.4/2.7 MB 2.9 MB/s eta 0:00:01\n",
      "   --------------------- ------------------ 1.4/2.7 MB 2.7 MB/s eta 0:00:01\n",
      "   ---------------------- ----------------- 1.5/2.7 MB 2.5 MB/s eta 0:00:01\n",
      "   ------------------------ --------------- 1.6/2.7 MB 2.5 MB/s eta 0:00:01\n",
      "   --------------------------- ------------ 1.8/2.7 MB 2.6 MB/s eta 0:00:01\n",
      "   ----------------------------- ---------- 2.0/2.7 MB 2.7 MB/s eta 0:00:01\n",
      "   ------------------------------- -------- 2.1/2.7 MB 2.7 MB/s eta 0:00:01\n",
      "   ---------------------------------- ----- 2.3/2.7 MB 2.8 MB/s eta 0:00:01\n",
      "   ------------------------------------ --- 2.4/2.7 MB 2.8 MB/s eta 0:00:01\n",
      "   -------------------------------------- - 2.6/2.7 MB 2.7 MB/s eta 0:00:01\n",
      "   ---------------------------------------- 2.7/2.7 MB 2.8 MB/s eta 0:00:00\n",
      "Downloading pyparsing-3.2.3-py3-none-any.whl (111 kB)\n",
      "   ---------------------------------------- 0.0/111.1 kB ? eta -:--:--\n",
      "   ------------------------- -------------- 71.7/111.1 kB 2.0 MB/s eta 0:00:01\n",
      "   ---------------------------------------- 111.1/111.1 kB 1.3 MB/s eta 0:00:00\n",
      "Installing collected packages: pyparsing, pillow, kiwisolver, fonttools, cycler, contourpy, matplotlib\n",
      "Successfully installed contourpy-1.3.2 cycler-0.12.1 fonttools-4.58.0 kiwisolver-1.4.8 matplotlib-3.10.3 pillow-11.2.1 pyparsing-3.2.3\n"
     ]
    },
    {
     "name": "stderr",
     "output_type": "stream",
     "text": [
      "\n",
      "[notice] A new release of pip is available: 24.0 -> 25.1.1\n",
      "[notice] To update, run: C:\\Users\\DELL\\AppData\\Local\\Microsoft\\WindowsApps\\PythonSoftwareFoundation.Python.3.11_qbz5n2kfra8p0\\python.exe -m pip install --upgrade pip\n"
     ]
    }
   ],
   "source": [
    "! pip install matplotlib"
   ]
  },
  {
   "cell_type": "code",
   "execution_count": 3,
   "id": "52d696c1",
   "metadata": {},
   "outputs": [],
   "source": [
    "#q21\n",
    "from sklearn.datasets import make_classification, make_regression, load_breast_cancer\n",
    "from sklearn.ensemble import BaggingClassifier, BaggingRegressor, RandomForestClassifier, RandomForestRegressor\n",
    "from sklearn.tree import DecisionTreeClassifier, DecisionTreeRegressor\n",
    "from sklearn.linear_model import LogisticRegression\n",
    "from sklearn.svm import SVC\n",
    "from sklearn.metrics import accuracy_score, mean_squared_error, roc_auc_score\n",
    "from sklearn.model_selection import train_test_split\n",
    "import matplotlib.pyplot as plt\n",
    "import numpy as np"
   ]
  },
  {
   "cell_type": "code",
   "execution_count": 5,
   "id": "63447454",
   "metadata": {},
   "outputs": [
    {
     "name": "stdout",
     "output_type": "stream",
     "text": [
      "1. Bagging Classifier Accuracy: 0.87\n"
     ]
    }
   ],
   "source": [
    "X_clf, y_clf = make_classification(n_samples=1000, n_features=20, random_state=42)\n",
    "X_train, X_test, y_train, y_test = train_test_split(X_clf, y_clf, test_size=0.3, random_state=42)\n",
    "\n",
    "bag_clf = BaggingClassifier(estimator=DecisionTreeClassifier(), n_estimators=50, random_state=42)\n",
    "bag_clf.fit(X_train, y_train)\n",
    "print(\"1. Bagging Classifier Accuracy:\", accuracy_score(y_test, bag_clf.predict(X_test)))"
   ]
  },
  {
   "cell_type": "code",
   "execution_count": 7,
   "id": "e44f5ea1",
   "metadata": {},
   "outputs": [
    {
     "name": "stdout",
     "output_type": "stream",
     "text": [
      "2. Bagging Regressor MSE: 7746.521371984958\n"
     ]
    }
   ],
   "source": [
    "#q22\n",
    "X_reg, y_reg = make_regression(n_samples=1000, n_features=20, noise=0.1, random_state=42)\n",
    "X_train_r, X_test_r, y_train_r, y_test_r = train_test_split(X_reg, y_reg, test_size=0.3, random_state=42)\n",
    "\n",
    "bag_reg = BaggingRegressor(estimator=DecisionTreeRegressor(), n_estimators=50, random_state=42)\n",
    "bag_reg.fit(X_train_r, y_train_r)\n",
    "print(\"2. Bagging Regressor MSE:\", mean_squared_error(y_test_r, bag_reg.predict(X_test_r)))"
   ]
  },
  {
   "cell_type": "code",
   "execution_count": 8,
   "id": "43c75801",
   "metadata": {},
   "outputs": [
    {
     "name": "stdout",
     "output_type": "stream",
     "text": [
      "3. Feature importances (Breast Cancer Dataset):\n",
      "mean radius: 0.0348\n",
      "mean texture: 0.0152\n",
      "mean perimeter: 0.0680\n",
      "mean area: 0.0605\n",
      "mean smoothness: 0.0080\n",
      "mean compactness: 0.0116\n",
      "mean concavity: 0.0669\n",
      "mean concave points: 0.1070\n",
      "mean symmetry: 0.0034\n",
      "mean fractal dimension: 0.0026\n",
      "radius error: 0.0143\n",
      "texture error: 0.0037\n",
      "perimeter error: 0.0101\n",
      "area error: 0.0296\n",
      "smoothness error: 0.0047\n",
      "compactness error: 0.0056\n",
      "concavity error: 0.0058\n",
      "concave points error: 0.0038\n",
      "symmetry error: 0.0035\n",
      "fractal dimension error: 0.0059\n",
      "worst radius: 0.0828\n",
      "worst texture: 0.0175\n",
      "worst perimeter: 0.0808\n",
      "worst area: 0.1394\n",
      "worst smoothness: 0.0122\n",
      "worst compactness: 0.0199\n",
      "worst concavity: 0.0373\n",
      "worst concave points: 0.1322\n",
      "worst symmetry: 0.0082\n",
      "worst fractal dimension: 0.0045\n"
     ]
    }
   ],
   "source": [
    "#q23\n",
    "data = load_breast_cancer()\n",
    "X_bc, y_bc = data.data, data.target\n",
    "\n",
    "rf_clf = RandomForestClassifier(n_estimators=100, random_state=42)\n",
    "rf_clf.fit(X_bc, y_bc)\n",
    "print(\"3. Feature importances (Breast Cancer Dataset):\")\n",
    "for name, importance in zip(data.feature_names, rf_clf.feature_importances_):\n",
    "    print(f\"{name}: {importance:.4f}\")\n"
   ]
  },
  {
   "cell_type": "code",
   "execution_count": 9,
   "id": "f4fe34dc",
   "metadata": {},
   "outputs": [
    {
     "name": "stdout",
     "output_type": "stream",
     "text": [
      "4. Decision Tree MSE: 22730.973828483253\n",
      "   Random Forest MSE: 7375.845338518913\n"
     ]
    }
   ],
   "source": [
    "#q24\n",
    "dt_reg = DecisionTreeRegressor()\n",
    "rf_reg = RandomForestRegressor(n_estimators=100, random_state=42)\n",
    "\n",
    "dt_reg.fit(X_train_r, y_train_r)\n",
    "rf_reg.fit(X_train_r, y_train_r)\n",
    "\n",
    "dt_mse = mean_squared_error(y_test_r, dt_reg.predict(X_test_r))\n",
    "rf_mse = mean_squared_error(y_test_r, rf_reg.predict(X_test_r))\n",
    "\n",
    "print(\"4. Decision Tree MSE:\", dt_mse)\n",
    "print(\"   Random Forest MSE:\", rf_mse)"
   ]
  },
  {
   "cell_type": "code",
   "execution_count": 10,
   "id": "44b0802a",
   "metadata": {},
   "outputs": [
    {
     "name": "stdout",
     "output_type": "stream",
     "text": [
      "5. OOB Score: 0.9014285714285715\n"
     ]
    }
   ],
   "source": [
    "#q25\n",
    "rf_oob = RandomForestClassifier(n_estimators=100, oob_score=True, bootstrap=True, random_state=42)\n",
    "rf_oob.fit(X_train, y_train)\n",
    "print(\"5. OOB Score:\", rf_oob.oob_score_)"
   ]
  },
  {
   "cell_type": "code",
   "execution_count": 12,
   "id": "2cdd530e",
   "metadata": {},
   "outputs": [
    {
     "name": "stdout",
     "output_type": "stream",
     "text": [
      "6. Bagging with SVM Accuracy: 0.8433333333333334\n"
     ]
    }
   ],
   "source": [
    "#q26\n",
    "svm_clf = BaggingClassifier(estimator=SVC(probability=True), n_estimators=10, random_state=42)\n",
    "svm_clf.fit(X_train, y_train)\n",
    "print(\"6. Bagging with SVM Accuracy:\", accuracy_score(y_test, svm_clf.predict(X_test)))"
   ]
  },
  {
   "cell_type": "code",
   "execution_count": 13,
   "id": "16035a32",
   "metadata": {},
   "outputs": [
    {
     "name": "stdout",
     "output_type": "stream",
     "text": [
      "   n_estimators=10: Accuracy=0.8333\n",
      "   n_estimators=50: Accuracy=0.8500\n",
      "   n_estimators=100: Accuracy=0.8567\n",
      "   n_estimators=200: Accuracy=0.8600\n"
     ]
    }
   ],
   "source": [
    "#q27\n",
    "\n",
    "for n in [10, 50, 100, 200]:\n",
    "    model = RandomForestClassifier(n_estimators=n, random_state=42)\n",
    "    model.fit(X_train, y_train)\n",
    "    acc = accuracy_score(y_test, model.predict(X_test))\n",
    "    print(f\"   n_estimators={n}: Accuracy={acc:.4f}\")"
   ]
  },
  {
   "cell_type": "code",
   "execution_count": 14,
   "id": "9ea5ae9a",
   "metadata": {},
   "outputs": [
    {
     "name": "stdout",
     "output_type": "stream",
     "text": [
      "Bagging with Logistic Regression AUC: 0.9136818687430479\n"
     ]
    }
   ],
   "source": [
    "#q28\n",
    "log_bag = BaggingClassifier(estimator=LogisticRegression(max_iter=1000), n_estimators=10, random_state=42)\n",
    "log_bag.fit(X_train, y_train)\n",
    "probs = log_bag.predict_proba(X_test)[:, 1]\n",
    "print(\"Bagging with Logistic Regression AUC:\", roc_auc_score(y_test, probs))"
   ]
  },
  {
   "cell_type": "code",
   "execution_count": 15,
   "id": "0b24e6c9",
   "metadata": {},
   "outputs": [
    {
     "name": "stdout",
     "output_type": "stream",
     "text": [
      "Feature 0: 0.1384\n",
      "Feature 1: 0.2354\n",
      "Feature 2: 0.0083\n",
      "Feature 3: 0.0080\n",
      "Feature 4: 0.1744\n",
      "Feature 5: 0.0083\n",
      "Feature 6: 0.1083\n",
      "Feature 7: 0.0086\n",
      "Feature 8: 0.0100\n",
      "Feature 9: 0.0079\n",
      "Feature 10: 0.0093\n",
      "Feature 11: 0.0204\n",
      "Feature 12: 0.0086\n",
      "Feature 13: 0.0093\n",
      "Feature 14: 0.0086\n",
      "Feature 15: 0.0187\n",
      "Feature 16: 0.0108\n",
      "Feature 17: 0.1903\n",
      "Feature 18: 0.0091\n",
      "Feature 19: 0.0074\n"
     ]
    }
   ],
   "source": [
    "#q29\n",
    "rf_reg.fit(X_train_r, y_train_r)\n",
    "importances = rf_reg.feature_importances_\n",
    "for i, imp in enumerate(importances):\n",
    "    print(f\"Feature {i}: {imp:.4f}\")\n"
   ]
  },
  {
   "cell_type": "code",
   "execution_count": 17,
   "id": "3f8f98f3",
   "metadata": {},
   "outputs": [
    {
     "name": "stdout",
     "output_type": "stream",
     "text": [
      "Final Comparison:\n",
      "   Bagging Classifier Accuracy: 0.8700\n",
      "   Random Forest Accuracy:      0.8500\n"
     ]
    }
   ],
   "source": [
    "#q30\n",
    "bag_final = BaggingClassifier(estimator=DecisionTreeClassifier(), n_estimators=50, random_state=42)\n",
    "rf_final = RandomForestClassifier(n_estimators=50, random_state=42)\n",
    "\n",
    "bag_final.fit(X_train, y_train)\n",
    "rf_final.fit(X_train, y_train)\n",
    "\n",
    "bag_acc = accuracy_score(y_test, bag_final.predict(X_test))\n",
    "rf_acc = accuracy_score(y_test, rf_final.predict(X_test))\n",
    "\n",
    "print(\"Final Comparison:\")\n",
    "print(f\"   Bagging Classifier Accuracy: {bag_acc:.4f}\")\n",
    "print(f\"   Random Forest Accuracy:      {rf_acc:.4f}\")"
   ]
  }
 ],
 "metadata": {
  "kernelspec": {
   "display_name": "Python 3",
   "language": "python",
   "name": "python3"
  },
  "language_info": {
   "codemirror_mode": {
    "name": "ipython",
    "version": 3
   },
   "file_extension": ".py",
   "mimetype": "text/x-python",
   "name": "python",
   "nbconvert_exporter": "python",
   "pygments_lexer": "ipython3",
   "version": "3.11.9"
  }
 },
 "nbformat": 4,
 "nbformat_minor": 5
}
