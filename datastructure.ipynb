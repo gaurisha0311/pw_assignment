{
 "cells": [
  {
   "cell_type": "code",
   "execution_count": 2,
   "id": "c3e2d1fa",
   "metadata": {},
   "outputs": [
    {
     "data": {
      "text/plain": [
       "'ahsiruag'"
      ]
     },
     "execution_count": 2,
     "metadata": {},
     "output_type": "execute_result"
    }
   ],
   "source": [
    "#q1\n",
    "def reverse_string(s):\n",
    "    return s[::-1]\n",
    "reverse_string(\"gaurisha\")\n"
   ]
  },
  {
   "cell_type": "code",
   "execution_count": 3,
   "id": "9a6c15be",
   "metadata": {},
   "outputs": [
    {
     "data": {
      "text/plain": [
       "2"
      ]
     },
     "execution_count": 3,
     "metadata": {},
     "output_type": "execute_result"
    }
   ],
   "source": [
    "#q2\n",
    "def count_vowels(s):\n",
    "    return sum(1 for char in s.lower() if char in 'aeiou')\n",
    "count_vowels(\"sajal\")"
   ]
  },
  {
   "cell_type": "code",
   "execution_count": 4,
   "id": "473d76bd",
   "metadata": {},
   "outputs": [
    {
     "data": {
      "text/plain": [
       "True"
      ]
     },
     "execution_count": 4,
     "metadata": {},
     "output_type": "execute_result"
    }
   ],
   "source": [
    "#q3\n",
    "def is_palindrome(s):\n",
    "    return s == s[::-1]\n",
    "is_palindrome(\"aaaaa\")"
   ]
  },
  {
   "cell_type": "code",
   "execution_count": 7,
   "id": "6857be29",
   "metadata": {},
   "outputs": [
    {
     "data": {
      "text/plain": [
       "False"
      ]
     },
     "execution_count": 7,
     "metadata": {},
     "output_type": "execute_result"
    }
   ],
   "source": [
    "#q4\n",
    "def are_anagrams(s1, s2):\n",
    "    return sorted(s1) == sorted(s2)\n",
    "are_anagrams(\"gauri\",\"gaurisha\")"
   ]
  },
  {
   "cell_type": "code",
   "execution_count": 8,
   "id": "4fedde3e",
   "metadata": {},
   "outputs": [
    {
     "data": {
      "text/plain": [
       "'g1a1u1r1i1s1h1a131415161'"
      ]
     },
     "execution_count": 8,
     "metadata": {},
     "output_type": "execute_result"
    }
   ],
   "source": [
    "#q6\n",
    "def compress_string(s):\n",
    "    result = []\n",
    "    i = 0\n",
    "    while i < len(s):\n",
    "        count = 1\n",
    "        while i + 1 < len(s) and s[i] == s[i + 1]:\n",
    "            count += 1\n",
    "            i += 1\n",
    "        result.append(f\"{s[i]}{count}\")\n",
    "        i += 1\n",
    "    return ''.join(result)\n",
    "compress_string(\"gaurisha3456\")"
   ]
  },
  {
   "cell_type": "code",
   "execution_count": 9,
   "id": "487c1274",
   "metadata": {},
   "outputs": [
    {
     "data": {
      "text/plain": [
       "False"
      ]
     },
     "execution_count": 9,
     "metadata": {},
     "output_type": "execute_result"
    }
   ],
   "source": [
    "#q7\n",
    "def has_unique_chars(s):\n",
    "    return len(set(s)) == len(s)\n",
    "has_unique_chars(\"pwskills\")"
   ]
  },
  {
   "cell_type": "code",
   "execution_count": 10,
   "id": "448ea88a",
   "metadata": {},
   "outputs": [
    {
     "data": {
      "text/plain": [
       "'pwskllls'"
      ]
     },
     "execution_count": 10,
     "metadata": {},
     "output_type": "execute_result"
    }
   ],
   "source": [
    "#q8\n",
    "def to_upper(s):\n",
    "    return s.upper()\n",
    "\n",
    "def to_lower(s):\n",
    "    return s.lower()\n",
    "\n",
    "to_upper(\"gaurisha\")\n",
    "to_lower(\"PWSKLLLS\")"
   ]
  },
  {
   "cell_type": "code",
   "execution_count": 12,
   "id": "500f97d2",
   "metadata": {},
   "outputs": [
    {
     "data": {
      "text/plain": [
       "2"
      ]
     },
     "execution_count": 12,
     "metadata": {},
     "output_type": "execute_result"
    }
   ],
   "source": [
    "#Q9\n",
    "def count_words(s):\n",
    "    return len(s.split())\n",
    "count_words(\"Arithmetic Error\")"
   ]
  },
  {
   "cell_type": "code",
   "execution_count": 13,
   "id": "4fb622b8",
   "metadata": {},
   "outputs": [
    {
     "data": {
      "text/plain": [
       "'gaurishapw'"
      ]
     },
     "execution_count": 13,
     "metadata": {},
     "output_type": "execute_result"
    }
   ],
   "source": [
    "#q10\n",
    "def concat_strings(s1, s2):\n",
    "    return ''.join([s1, s2])\n",
    "\n",
    "concat_strings(\"gaurisha\",\"pw\")"
   ]
  },
  {
   "cell_type": "code",
   "execution_count": 14,
   "id": "10331fc6",
   "metadata": {},
   "outputs": [
    {
     "data": {
      "text/plain": [
       "[0, 8, 67, 89]"
      ]
     },
     "execution_count": 14,
     "metadata": {},
     "output_type": "execute_result"
    }
   ],
   "source": [
    "#q11\n",
    "def remove_element(lst, elem):\n",
    "    return [x for x in lst if x != elem]\n",
    "remove_element([0,8,67,89,90],90)"
   ]
  },
  {
   "cell_type": "code",
   "execution_count": 15,
   "id": "52151493",
   "metadata": {},
   "outputs": [
    {
     "data": {
      "text/plain": [
       "78"
      ]
     },
     "execution_count": 15,
     "metadata": {},
     "output_type": "execute_result"
    }
   ],
   "source": [
    "#q12\n",
    "def second_largest(lst):\n",
    "    unique = list(set(lst))\n",
    "    unique.sort()\n",
    "    return unique[-2] if len(unique) >= 2 else None\n",
    "second_largest([90,45,56,78])"
   ]
  },
  {
   "cell_type": "code",
   "execution_count": 16,
   "id": "49bdb25e",
   "metadata": {},
   "outputs": [
    {
     "data": {
      "text/plain": [
       "{6: 3, 67: 1, 78: 1, 8: 1}"
      ]
     },
     "execution_count": 16,
     "metadata": {},
     "output_type": "execute_result"
    }
   ],
   "source": [
    "#q13\n",
    "from collections import Counter\n",
    "\n",
    "def count_occurrences(lst):\n",
    "    return dict(Counter(lst))\n",
    "count_occurrences([6,6,67,6,78,8])"
   ]
  },
  {
   "cell_type": "code",
   "execution_count": 17,
   "id": "c113ce13",
   "metadata": {},
   "outputs": [
    {
     "data": {
      "text/plain": [
       "[890, 678, 56, 4, 9]"
      ]
     },
     "execution_count": 17,
     "metadata": {},
     "output_type": "execute_result"
    }
   ],
   "source": [
    "#q14\n",
    "def reverse_list(lst):\n",
    "    for i in range(len(lst) // 2):\n",
    "        lst[i], lst[-i-1] = lst[-i-1], lst[i]\n",
    "    return lst\n",
    "reverse_list([9,4,56,678,890])"
   ]
  },
  {
   "cell_type": "code",
   "execution_count": 19,
   "id": "6feb5691",
   "metadata": {},
   "outputs": [
    {
     "data": {
      "text/plain": [
       "[7, 8, 9, 90]"
      ]
     },
     "execution_count": 19,
     "metadata": {},
     "output_type": "execute_result"
    }
   ],
   "source": [
    "#q15\n",
    "def remove_duplicates(lst):\n",
    "    seen = set()\n",
    "    result = []\n",
    "    for item in lst:\n",
    "        if item not in seen:\n",
    "            seen.add(item)\n",
    "            result.append(item)\n",
    "    return result\n",
    "remove_duplicates([7,7,8,8,9,90,8,9,9])\n"
   ]
  },
  {
   "cell_type": "code",
   "execution_count": 20,
   "id": "ab822052",
   "metadata": {},
   "outputs": [
    {
     "data": {
      "text/plain": [
       "True"
      ]
     },
     "execution_count": 20,
     "metadata": {},
     "output_type": "execute_result"
    }
   ],
   "source": [
    "#q16\n",
    "def is_sorted(lst):\n",
    "    return lst == sorted(lst) or lst == sorted(lst, reverse=True)\n",
    "is_sorted([0,1,2,3,4])"
   ]
  },
  {
   "cell_type": "code",
   "execution_count": 21,
   "id": "b6c2a55f",
   "metadata": {},
   "outputs": [
    {
     "data": {
      "text/plain": [
       "[9, 5, 5, 9, 8, 56, 90]"
      ]
     },
     "execution_count": 21,
     "metadata": {},
     "output_type": "execute_result"
    }
   ],
   "source": [
    "#q17\n",
    "def merge_sorted_lists(l1, l2):\n",
    "    i = j = 0\n",
    "    result = []\n",
    "    while i < len(l1) and j < len(l2):\n",
    "        if l1[i] < l2[j]:\n",
    "            result.append(l1[i])\n",
    "            i += 1\n",
    "        else:\n",
    "            result.append(l2[j])\n",
    "            j += 1\n",
    "    result.extend(l1[i:])\n",
    "    result.extend(l2[j:])\n",
    "    return result\n",
    "merge_sorted_lists([9,8,90],[9,5,5,56])"
   ]
  },
  {
   "cell_type": "code",
   "execution_count": 22,
   "id": "d3482638",
   "metadata": {},
   "outputs": [
    {
     "data": {
      "text/plain": [
       "[5]"
      ]
     },
     "execution_count": 22,
     "metadata": {},
     "output_type": "execute_result"
    }
   ],
   "source": [
    "#q18\n",
    "def list_intersection(l1, l2):\n",
    "    return list(set(l1) & set(l2))\n",
    "list_intersection([8,4,4,5,6],[9,5])"
   ]
  },
  {
   "cell_type": "code",
   "execution_count": 23,
   "id": "9cf1e5a5",
   "metadata": {},
   "outputs": [
    {
     "data": {
      "text/plain": [
       "[0, 2, 3, 4, 9, 45]"
      ]
     },
     "execution_count": 23,
     "metadata": {},
     "output_type": "execute_result"
    }
   ],
   "source": [
    "#q19\n",
    "def list_union(l1, l2):\n",
    "    return list(set(l1) | set(l2))\n",
    "list_union([9,4,45,0],[4,45,3,2])"
   ]
  },
  {
   "cell_type": "code",
   "execution_count": 24,
   "id": "8fdb4217",
   "metadata": {},
   "outputs": [
    {
     "data": {
      "text/plain": [
       "(3,)"
      ]
     },
     "execution_count": 24,
     "metadata": {},
     "output_type": "execute_result"
    }
   ],
   "source": [
    "#q21\n",
    "def common_tuple_elements(t1, t2):\n",
    "    return tuple(set(t1) & set(t2))\n",
    "common_tuple_elements((3,3,3,45),(98,5,5,3))\n"
   ]
  },
  {
   "cell_type": "code",
   "execution_count": 25,
   "id": "ef2eee9d",
   "metadata": {},
   "outputs": [
    {
     "name": "stdout",
     "output_type": "stream",
     "text": [
      "Intersection: {4, 5}\n"
     ]
    }
   ],
   "source": [
    "#q22\n",
    "def user_set_intersection():\n",
    "    s1 = set(map(int, input(\"Enter first set of integers (comma-separated): \").split(',')))\n",
    "    s2 = set(map(int, input(\"Enter second set of integers (comma-separated): \").split(',')))\n",
    "    print(\"Intersection:\", s1 & s2)\n",
    "user_set_intersection()"
   ]
  },
  {
   "cell_type": "code",
   "execution_count": 26,
   "id": "4dd30c9d",
   "metadata": {},
   "outputs": [],
   "source": [
    "#q23\n",
    "def concat_tuples(t1, t2):\n",
    "    return t1 + t2\n"
   ]
  },
  {
   "cell_type": "code",
   "execution_count": 27,
   "id": "936cb914",
   "metadata": {},
   "outputs": [
    {
     "name": "stdout",
     "output_type": "stream",
     "text": [
      "Elements in first set but not in second set: {'6', '7'}\n"
     ]
    }
   ],
   "source": [
    "#q24\n",
    "def difference_of_sets():\n",
    "    set1 = set(input(\"Enter first set of strings (comma-separated): \").split(','))\n",
    "    set2 = set(input(\"Enter second set of strings (comma-separated): \").split(','))\n",
    "    print(\"Elements in first set but not in second set:\", set1 - set2)\n",
    "difference_of_sets()"
   ]
  },
  {
   "cell_type": "code",
   "execution_count": 29,
   "id": "3d7c7815",
   "metadata": {},
   "outputs": [
    {
     "data": {
      "text/plain": [
       "(89, 78, 5, 8)"
      ]
     },
     "execution_count": 29,
     "metadata": {},
     "output_type": "execute_result"
    }
   ],
   "source": [
    "#q25\n",
    "def slice_tuple(tup, start, end):\n",
    "    return tup[start:end]\n",
    "slice_tuple((89,89,78,5,8),1,5)"
   ]
  },
  {
   "cell_type": "code",
   "execution_count": 30,
   "id": "d976d9c4",
   "metadata": {},
   "outputs": [
    {
     "name": "stdout",
     "output_type": "stream",
     "text": [
      "Union of the sets: {'6', '7', '4', ',', '5', '3'}\n"
     ]
    }
   ],
   "source": [
    "#q26\n",
    "def union_of_char_sets():\n",
    "    set1 = set(input(\"Enter first set of characters (no spaces): \"))\n",
    "    set2 = set(input(\"Enter second set of characters (no spaces): \"))\n",
    "    print(\"Union of the sets:\", set1 | set2)\n",
    "union_of_char_sets()"
   ]
  },
  {
   "cell_type": "code",
   "execution_count": 31,
   "id": "10819ccb",
   "metadata": {},
   "outputs": [
    {
     "name": "stdout",
     "output_type": "stream",
     "text": [
      "Union: {1, 2, 3, 4, 5, 6}\n",
      "Intersection: {3, 4}\n",
      "Difference (s1 - s2): {1, 2}\n"
     ]
    }
   ],
   "source": [
    "#q28\n",
    "def set_operations():\n",
    "    s1 = {1, 2, 3, 4}\n",
    "    s2 = {3, 4, 5, 6}\n",
    "    print(\"Union:\", s1 | s2)\n",
    "    print(\"Intersection:\", s1 & s2)\n",
    "    print(\"Difference (s1 - s2):\", s1 - s2)\n",
    "set_operations()"
   ]
  },
  {
   "cell_type": "code",
   "execution_count": 32,
   "id": "705002cd",
   "metadata": {},
   "outputs": [
    {
     "data": {
      "text/plain": [
       "2"
      ]
     },
     "execution_count": 32,
     "metadata": {},
     "output_type": "execute_result"
    }
   ],
   "source": [
    "#q29\n",
    "def count_element_in_tuple(tup, elem):\n",
    "    return tup.count(elem)\n",
    "count_element_in_tuple((9,4,5,67,67,45),67)"
   ]
  },
  {
   "cell_type": "code",
   "execution_count": 33,
   "id": "9abdff00",
   "metadata": {},
   "outputs": [
    {
     "name": "stdout",
     "output_type": "stream",
     "text": [
      "Symmetric Difference: {'2', '78', '56', '1', '4', '5', '3'}\n"
     ]
    }
   ],
   "source": [
    "#q30\n",
    "def symmetric_diff_sets():\n",
    "    set1 = set(input(\"Enter first set of strings (comma-separated): \").split(','))\n",
    "    set2 = set(input(\"Enter second set of strings (comma-separated): \").split(','))\n",
    "    print(\"Symmetric Difference:\", set1 ^ set2)\n",
    "symmetric_diff_sets()"
   ]
  },
  {
   "cell_type": "code",
   "execution_count": 34,
   "id": "8a1f6eb9",
   "metadata": {},
   "outputs": [
    {
     "data": {
      "text/plain": [
       "{'a': 1, 'b': 4, 'v': 7, 'y': 9}"
      ]
     },
     "execution_count": 34,
     "metadata": {},
     "output_type": "execute_result"
    }
   ],
   "source": [
    "#q32\n",
    "def merge_dicts(d1, d2):\n",
    "    merged = d1.copy()\n",
    "    for key, value in d2.items():\n",
    "        merged[key] = merged.get(key, 0) + value\n",
    "    return merged\n",
    "merge_dicts({\"a\":1,\"b\":4},{\"v\":7,\"y\":9})"
   ]
  },
  {
   "cell_type": "code",
   "execution_count": 37,
   "id": "80fe4307",
   "metadata": {},
   "outputs": [
    {
     "data": {
      "text/plain": [
       "8"
      ]
     },
     "execution_count": 37,
     "metadata": {},
     "output_type": "execute_result"
    }
   ],
   "source": [
    "#q33\n",
    "def access_nested_dict(d, keys):\n",
    "    for key in keys:\n",
    "        if isinstance(d, dict) and key in d:\n",
    "            d = d[key]\n",
    "        else:\n",
    "            return None\n",
    "    return d\n",
    "access_nested_dict({\"a\":8,\"f\":7},\"a\")"
   ]
  },
  {
   "cell_type": "code",
   "execution_count": 38,
   "id": "06335ca2",
   "metadata": {},
   "outputs": [],
   "source": [
    "#q35\n",
    "def invert_dict(d):\n",
    "    inverted = {}\n",
    "    for key, value in d.items():\n",
    "        if value not in inverted:\n",
    "            inverted[value] = [key]\n",
    "        else:\n",
    "            inverted[value].append(key)\n",
    "    return inverted\n"
   ]
  }
 ],
 "metadata": {
  "kernelspec": {
   "display_name": "Python 3",
   "language": "python",
   "name": "python3"
  },
  "language_info": {
   "codemirror_mode": {
    "name": "ipython",
    "version": 3
   },
   "file_extension": ".py",
   "mimetype": "text/x-python",
   "name": "python",
   "nbconvert_exporter": "python",
   "pygments_lexer": "ipython3",
   "version": "3.11.9"
  }
 },
 "nbformat": 4,
 "nbformat_minor": 5
}
