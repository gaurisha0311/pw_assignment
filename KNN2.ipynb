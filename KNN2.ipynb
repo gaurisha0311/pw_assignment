{
 "cells": [
  {
   "cell_type": "code",
   "execution_count": 1,
   "id": "53126091-18f8-4699-aa47-b3289bbf93fc",
   "metadata": {},
   "outputs": [
    {
     "data": {
      "text/plain": [
       "'\\nEuclidean Distance:\\n\\nMeasures the straight-line distance between two points in Euclidean space.\\nAffected by the magnitude of differences in all dimensions.\\nSensitive to varying scales among features.\\nProne to be influenced by outliers.\\nManhattan Distance:\\n\\nMeasures the sum of absolute differences between the coordinates of two points.\\nIgnores diagonal distances, only considering orthogonal movements.\\nLess sensitive to outliers and variations in scale.\\nSuitable when features have different units or the relation between dimensions is more critical.\\n'"
      ]
     },
     "execution_count": 1,
     "metadata": {},
     "output_type": "execute_result"
    }
   ],
   "source": [
    "#q1\n",
    "'''\n",
    "Euclidean Distance:\n",
    "\n",
    "Measures the straight-line distance between two points in Euclidean space.\n",
    "Affected by the magnitude of differences in all dimensions.\n",
    "Sensitive to varying scales among features.\n",
    "Prone to be influenced by outliers.\n",
    "Manhattan Distance:\n",
    "\n",
    "Measures the sum of absolute differences between the coordinates of two points.\n",
    "Ignores diagonal distances, only considering orthogonal movements.\n",
    "Less sensitive to outliers and variations in scale.\n",
    "Suitable when features have different units or the relation between dimensions is more critical.\n",
    "'''"
   ]
  },
  {
   "cell_type": "code",
   "execution_count": 2,
   "id": "1aafabc0-66f1-4113-b33a-632c19f93f39",
   "metadata": {},
   "outputs": [
    {
     "data": {
      "text/plain": [
       "'\\nUse cross-validation techniques (e.g., k-fold cross-validation) to evaluate model performance for different k values.\\nPlot a validation curve to observe how the model performs with varying k values.\\nGrid search or randomized search can be employed to search for the optimal k efficiently.\\n'"
      ]
     },
     "execution_count": 2,
     "metadata": {},
     "output_type": "execute_result"
    }
   ],
   "source": [
    "#q2\n",
    "'''\n",
    "Use cross-validation techniques (e.g., k-fold cross-validation) to evaluate model performance for different k values.\n",
    "Plot a validation curve to observe how the model performs with varying k values.\n",
    "Grid search or randomized search can be employed to search for the optimal k efficiently.\n",
    "'''"
   ]
  },
  {
   "cell_type": "code",
   "execution_count": null,
   "id": "6c453fc9-9ccb-4c0d-8b7f-44699b43b3b5",
   "metadata": {},
   "outputs": [],
   "source": [
    "#q3\n",
    "'''\n",
    "Euclidean is sensitive to scale and outliers, while Manhattan is less affected by them.\n",
    "Use Euclidean when all features contribute equally and have similar scales.\n",
    "Use Manhattan when features have different units or the relevance of dimensions differs.\n",
    "The choice depends on the nature of the data and the characteristics of the problem. Experimentation and validation on specific datasets help in deciding the appropriate distance metric."
   ]
  }
 ],
 "metadata": {
  "kernelspec": {
   "display_name": "Python 3 (ipykernel)",
   "language": "python",
   "name": "python3"
  },
  "language_info": {
   "codemirror_mode": {
    "name": "ipython",
    "version": 3
   },
   "file_extension": ".py",
   "mimetype": "text/x-python",
   "name": "python",
   "nbconvert_exporter": "python",
   "pygments_lexer": "ipython3",
   "version": "3.10.8"
  }
 },
 "nbformat": 4,
 "nbformat_minor": 5
}
