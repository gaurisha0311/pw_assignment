{
 "cells": [
  {
   "cell_type": "code",
   "execution_count": 2,
   "id": "a836ff0d",
   "metadata": {},
   "outputs": [
    {
     "data": {
      "text/plain": [
       "92"
      ]
     },
     "execution_count": 2,
     "metadata": {},
     "output_type": "execute_result"
    }
   ],
   "source": [
    "#q1\n",
    "def sum_even(numbers):\n",
    "    return sum(num for num in numbers if num % 2 == 0)\n",
    "sum_even([4,5,67,88])"
   ]
  },
  {
   "cell_type": "code",
   "execution_count": 3,
   "id": "2e842208",
   "metadata": {},
   "outputs": [
    {
     "data": {
      "text/plain": [
       "'iruag'"
      ]
     },
     "execution_count": 3,
     "metadata": {},
     "output_type": "execute_result"
    }
   ],
   "source": [
    "#q2\n",
    "def reverse_string(s):\n",
    "    return s[::-1]\n",
    "reverse_string(\"gauri\")"
   ]
  },
  {
   "cell_type": "code",
   "execution_count": 4,
   "id": "91d1e23e",
   "metadata": {},
   "outputs": [
    {
     "data": {
      "text/plain": [
       "[81, 3136, 2025, 4489]"
      ]
     },
     "execution_count": 4,
     "metadata": {},
     "output_type": "execute_result"
    }
   ],
   "source": [
    "#q3\n",
    "def square_list(numbers):\n",
    "    return [num ** 2 for num in numbers]\n",
    "square_list([9,56,45,67])"
   ]
  },
  {
   "cell_type": "code",
   "execution_count": 5,
   "id": "7135bc0d",
   "metadata": {},
   "outputs": [
    {
     "data": {
      "text/plain": [
       "False"
      ]
     },
     "execution_count": 5,
     "metadata": {},
     "output_type": "execute_result"
    }
   ],
   "source": [
    "#q4\n",
    "def is_prime(n):\n",
    "    if n <= 1:\n",
    "        return False\n",
    "    for i in range(2, int(n**0.5)+1):\n",
    "        if n % i == 0:\n",
    "            return False\n",
    "    return True\n",
    "is_prime(8)"
   ]
  },
  {
   "cell_type": "code",
   "execution_count": 6,
   "id": "b28e60a7",
   "metadata": {},
   "outputs": [],
   "source": [
    "#q5\n",
    "class Fibonacci:\n",
    "    def __init__(self, max_terms):\n",
    "        self.max_terms = max_terms\n",
    "        self.a, self.b = 0, 1\n",
    "        self.count = 0\n",
    "\n",
    "    def __iter__(self):\n",
    "        return self\n",
    "\n",
    "    def __next__(self):\n",
    "        if self.count >= self.max_terms:\n",
    "            raise StopIteration\n",
    "        self.a, self.b = self.b, self.a + self.b\n",
    "        self.count += 1\n",
    "        return self.a\n"
   ]
  },
  {
   "cell_type": "code",
   "execution_count": 7,
   "id": "c7ace847",
   "metadata": {},
   "outputs": [
    {
     "data": {
      "text/plain": [
       "<generator object powers_of_two at 0x000001D86169BAE0>"
      ]
     },
     "execution_count": 7,
     "metadata": {},
     "output_type": "execute_result"
    }
   ],
   "source": [
    "#q6\n",
    "def powers_of_two(n):\n",
    "    for i in range(n + 1):\n",
    "        yield 2 ** i\n",
    "powers_of_two(78)"
   ]
  },
  {
   "cell_type": "code",
   "execution_count": 8,
   "id": "fe0ea3bf",
   "metadata": {},
   "outputs": [],
   "source": [
    "#q7\n",
    "def read_file_lines(filename):\n",
    "    with open(filename, 'r') as file:\n",
    "        for line in file:\n",
    "            yield line.strip()\n"
   ]
  },
  {
   "cell_type": "code",
   "execution_count": 10,
   "id": "0fd5dd91",
   "metadata": {},
   "outputs": [
    {
     "name": "stdout",
     "output_type": "stream",
     "text": [
      "[(1, 3), (2, 1), (4, 2)]\n"
     ]
    }
   ],
   "source": [
    "#q8\n",
    "tuples = [(1, 3), (2, 1), (4, 2)]\n",
    "sorted_tuples = sorted(tuples, key=lambda x: x[1])\n",
    "print(tuples)"
   ]
  },
  {
   "cell_type": "code",
   "execution_count": 11,
   "id": "9a784530",
   "metadata": {},
   "outputs": [
    {
     "name": "stdout",
     "output_type": "stream",
     "text": [
      "[0, 20, 30, 40]\n"
     ]
    }
   ],
   "source": [
    "#q9\n",
    "celsius = [0, 20, 30, 40]\n",
    "fahrenheit = list(map(lambda c: (c * 9/5) + 32, celsius))\n",
    "print(celsius)"
   ]
  },
  {
   "cell_type": "code",
   "execution_count": 12,
   "id": "a825d588",
   "metadata": {},
   "outputs": [
    {
     "data": {
      "text/plain": [
       "'sdhkkllm'"
      ]
     },
     "execution_count": 12,
     "metadata": {},
     "output_type": "execute_result"
    }
   ],
   "source": [
    "#q10\n",
    "def remove_vowels(s):\n",
    "    return ''.join(filter(lambda x: x.lower() not in 'aeiou', s))\n",
    "remove_vowels(\"asdhkkllom\")"
   ]
  },
  {
   "cell_type": "code",
   "execution_count": 13,
   "id": "ba9346ee",
   "metadata": {},
   "outputs": [],
   "source": [
    "#q11\n",
    "# Sample data: [order number, item name, quantity, price per item]\n",
    "orders = [\n",
    "    [\"34587\", \"Book A\", 4, 15.99],\n",
    "    [\"98762\", \"Book B\", 1, 55.50],\n",
    "    [\"77226\", \"Book C\", 5, 12.99],\n",
    "    [\"88112\", \"Book D\", 3, 24.99]\n",
    "]\n",
    "\n",
    "results = list(map(\n",
    "    lambda x: (x[0], x[2] * x[3] + 10 if x[2] * x[3] < 100 else x[2] * x[3]),\n",
    "    orders\n",
    "))\n"
   ]
  }
 ],
 "metadata": {
  "kernelspec": {
   "display_name": "Python 3",
   "language": "python",
   "name": "python3"
  },
  "language_info": {
   "codemirror_mode": {
    "name": "ipython",
    "version": 3
   },
   "file_extension": ".py",
   "mimetype": "text/x-python",
   "name": "python",
   "nbconvert_exporter": "python",
   "pygments_lexer": "ipython3",
   "version": "3.11.9"
  }
 },
 "nbformat": 4,
 "nbformat_minor": 5
}
