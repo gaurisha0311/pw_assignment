{
 "cells": [
  {
   "cell_type": "code",
   "execution_count": 1,
   "id": "d29be0cd-4904-4ac1-aec1-33de0a94bc38",
   "metadata": {},
   "outputs": [
    {
     "data": {
      "text/plain": [
       "\"\\nBayes' theorem is a fundamental theorem in probability theory named \\nafter the Reverend Thomas Bayes. It describes how to update the probability of a hypothesis based on new\\nevidence.\\n\""
      ]
     },
     "execution_count": 1,
     "metadata": {},
     "output_type": "execute_result"
    }
   ],
   "source": [
    "#q1\n",
    "'''\n",
    "Bayes' theorem is a fundamental theorem in probability theory named \n",
    "after the Reverend Thomas Bayes. It describes how to update the probability of a hypothesis based on new\n",
    "evidence.\n",
    "'''\n"
   ]
  },
  {
   "cell_type": "code",
   "execution_count": 2,
   "id": "22f26915-2055-4582-a2d6-133ffa7ca2f1",
   "metadata": {},
   "outputs": [
    {
     "data": {
      "text/plain": [
       "\"\\nBayes' theorem is used in practice in various fields including statistics, machine learning, and artificial\\nintelligence. It's commonly used in Bayesian inference to update beliefs about hypotheses based on \\nobserved evidence. It has applications in spam filtering, medical diagnosis, document classification, and more.\\n\""
      ]
     },
     "execution_count": 2,
     "metadata": {},
     "output_type": "execute_result"
    }
   ],
   "source": [
    "#q3\n",
    "'''\n",
    "Bayes' theorem is used in practice in various fields including statistics, machine learning, and artificial\n",
    "intelligence. It's commonly used in Bayesian inference to update beliefs about hypotheses based on \n",
    "observed evidence. It has applications in spam filtering, medical diagnosis, document classification, and more.\n",
    "'''\n"
   ]
  },
  {
   "cell_type": "code",
   "execution_count": 3,
   "id": "7983909f-356b-43de-b045-f67bac7c7bf8",
   "metadata": {},
   "outputs": [
    {
     "data": {
      "text/plain": [
       "\"\\n Bayes' theorem relates to conditional probability in that it provides a way to compute the conditional \\n probability of one event given another event, using the\\n prior probabilities of the events involved and the likelihood of observing the evidence given each hypothesis.\\n \""
      ]
     },
     "execution_count": 3,
     "metadata": {},
     "output_type": "execute_result"
    }
   ],
   "source": [
    "#q4\n",
    "'''\n",
    " Bayes' theorem relates to conditional probability in that it provides a way to compute the conditional \n",
    " probability of one event given another event, using the\n",
    " prior probabilities of the events involved and the likelihood of observing the evidence given each hypothesis.\n",
    " '''\n"
   ]
  },
  {
   "cell_type": "code",
   "execution_count": 4,
   "id": "91144178-b246-4f7d-b4ea-e6526d960cf6",
   "metadata": {},
   "outputs": [
    {
     "data": {
      "text/plain": [
       "\"\\nChoosing the type of Naive Bayes classifier depends on the nature of the data and the assumptions you're willing\\nto make about the independence of features. The three main types of Naive Bayes classifiers are:\\n\\nGaussian Naive Bayes: Assumes that continuous features follow a Gaussian distribution.\\nMultinomial Naive Bayes: Used for discrete counts, typically for text classification tasks.\\nBernoulli Naive Bayes: Assumes that features are binary (i.e., presence or absence of a feature), \\ncommonly used for text classification with binary features like word presence/absence.\\n\""
      ]
     },
     "execution_count": 4,
     "metadata": {},
     "output_type": "execute_result"
    }
   ],
   "source": [
    "#q5\n",
    "'''\n",
    "Choosing the type of Naive Bayes classifier depends on the nature of the data and the assumptions you're willing\n",
    "to make about the independence of features. The three main types of Naive Bayes classifiers are:\n",
    "\n",
    "Gaussian Naive Bayes: Assumes that continuous features follow a Gaussian distribution.\n",
    "Multinomial Naive Bayes: Used for discrete counts, typically for text classification tasks.\n",
    "Bernoulli Naive Bayes: Assumes that features are binary (i.e., presence or absence of a feature), \n",
    "commonly used for text classification with binary features like word presence/absence.\n",
    "'''"
   ]
  },
  {
   "cell_type": "code",
   "execution_count": null,
   "id": "96b13bf4-2a3c-459a-a4ac-d78da67bbba9",
   "metadata": {},
   "outputs": [],
   "source": [
    "#q6\n"
   ]
  }
 ],
 "metadata": {
  "kernelspec": {
   "display_name": "Python 3 (ipykernel)",
   "language": "python",
   "name": "python3"
  },
  "language_info": {
   "codemirror_mode": {
    "name": "ipython",
    "version": 3
   },
   "file_extension": ".py",
   "mimetype": "text/x-python",
   "name": "python",
   "nbconvert_exporter": "python",
   "pygments_lexer": "ipython3",
   "version": "3.10.8"
  }
 },
 "nbformat": 4,
 "nbformat_minor": 5
}
