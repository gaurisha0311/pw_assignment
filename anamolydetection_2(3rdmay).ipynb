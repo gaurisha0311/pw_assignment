{
 "cells": [
  {
   "cell_type": "code",
   "execution_count": 1,
   "id": "c7402b2a-4296-43a2-a8c6-7905ac0e1f3c",
   "metadata": {},
   "outputs": [
    {
     "data": {
      "text/plain": [
       "'\\nIdentify and retain relevant features that contribute to anomaly detection.\\nEliminate irrelevant or redundant features, reducing dimensionality.\\nImprove algorithm efficiency and interpretability.\\n'"
      ]
     },
     "execution_count": 1,
     "metadata": {},
     "output_type": "execute_result"
    }
   ],
   "source": [
    "#q1\n",
    "'''\n",
    "Identify and retain relevant features that contribute to anomaly detection.\n",
    "Eliminate irrelevant or redundant features, reducing dimensionality.\n",
    "Improve algorithm efficiency and interpretability.\n",
    "'''"
   ]
  },
  {
   "cell_type": "code",
   "execution_count": 2,
   "id": "366b8575-0df9-4a65-9201-ec2065fb9e53",
   "metadata": {},
   "outputs": [
    {
     "data": {
      "text/plain": [
       "'\\nPrecision, Recall, and F1-Score: Based on true positives, false positives, and false negatives.\\nArea Under the Receiver Operating Characteristic (AUROC): Measures trade-off between true positive rate and \\nfalse positive rate.\\nArea Under the Precision-Recall Curve (AUC-PR): Focuses on precision and recall.\\nConfusion Matrix: Summarizes the performance of a classification algorithm.\\n'"
      ]
     },
     "execution_count": 2,
     "metadata": {},
     "output_type": "execute_result"
    }
   ],
   "source": [
    "#q2\n",
    "'''\n",
    "Precision, Recall, and F1-Score: Based on true positives, false positives, and false negatives.\n",
    "Area Under the Receiver Operating Characteristic (AUROC): Measures trade-off between true positive rate and \n",
    "false positive rate.\n",
    "Area Under the Precision-Recall Curve (AUC-PR): Focuses on precision and recall.\n",
    "Confusion Matrix: Summarizes the performance of a classification algorithm.\n",
    "'''"
   ]
  },
  {
   "cell_type": "code",
   "execution_count": 3,
   "id": "29ea5a55-e572-4de0-9222-3e43592d10ae",
   "metadata": {},
   "outputs": [
    {
     "data": {
      "text/plain": [
       "'\\nEpsilon defines the maximum distance between two samples for one to be considered as in the neighborhood of the \\nother.\\nSmaller epsilon values lead to denser clusters, potentially missing outliers.\\nLarger epsilon values may include distant points, increasing the chance of false positives.\\n'"
      ]
     },
     "execution_count": 3,
     "metadata": {},
     "output_type": "execute_result"
    }
   ],
   "source": [
    "#q4\n",
    "'''\n",
    "Epsilon defines the maximum distance between two samples for one to be considered as in the neighborhood of the \n",
    "other.\n",
    "Smaller epsilon values lead to denser clusters, potentially missing outliers.\n",
    "Larger epsilon values may include distant points, increasing the chance of false positives.\n",
    "'''"
   ]
  },
  {
   "cell_type": "code",
   "execution_count": 4,
   "id": "7c997daf-10fd-4c2b-a1f5-e1201ff1931d",
   "metadata": {},
   "outputs": [
    {
     "data": {
      "text/plain": [
       "'\\nCore Points: Have at least \"min_samples\" data points within a distance of \"epsilon.\"\\nBorder Points: Have fewer than \"min_samples\" neighbors but fall within the \"epsilon\" distance of a core point.\\nNoise Points: Have fewer than \"min_samples\" neighbors and are not within \"epsilon\" distance of any core point.\\n'"
      ]
     },
     "execution_count": 4,
     "metadata": {},
     "output_type": "execute_result"
    }
   ],
   "source": [
    "#q5\n",
    "'''\n",
    "Core Points: Have at least \"min_samples\" data points within a distance of \"epsilon.\"\n",
    "Border Points: Have fewer than \"min_samples\" neighbors but fall within the \"epsilon\" distance of a core point.\n",
    "Noise Points: Have fewer than \"min_samples\" neighbors and are not within \"epsilon\" distance of any core point.\n",
    "'''"
   ]
  },
  {
   "cell_type": "code",
   "execution_count": 5,
   "id": "15b0fcf5-0e56-4149-8f06-f2379fd05efa",
   "metadata": {},
   "outputs": [
    {
     "data": {
      "text/plain": [
       "'\\nAnomalies are often considered noise points or points on the border of clusters.\\nKey parameters: Epsilon (maximum distance) and min_samples (minimum number of points to form a dense region).\\n'"
      ]
     },
     "execution_count": 5,
     "metadata": {},
     "output_type": "execute_result"
    }
   ],
   "source": [
    "#q6\n",
    "'''\n",
    "Anomalies are often considered noise points or points on the border of clusters.\n",
    "Key parameters: Epsilon (maximum distance) and min_samples (minimum number of points to form a dense region).\n",
    "'''"
   ]
  },
  {
   "cell_type": "code",
   "execution_count": 6,
   "id": "b850c92e-81e0-40aa-9ce0-37f2a6882111",
   "metadata": {},
   "outputs": [
    {
     "data": {
      "text/plain": [
       "'\\nAnomalies are often considered noise points or points on the border of clusters.\\nKey parameters: Epsilon (maximum distance) and min_samples (minimum number of points to form a dense region).\\n'"
      ]
     },
     "execution_count": 6,
     "metadata": {},
     "output_type": "execute_result"
    }
   ],
   "source": [
    "#q8\n",
    "'''\n",
    "Anomalies are often considered noise points or points on the border of clusters.\n",
    "Key parameters: Epsilon (maximum distance) and min_samples (minimum number of points to form a dense region).\n",
    "'''"
   ]
  },
  {
   "cell_type": "code",
   "execution_count": 7,
   "id": "44292ec7-337c-4042-ac36-fedeb00cb416",
   "metadata": {},
   "outputs": [
    {
     "data": {
      "text/plain": [
       "'\\nMeasures the local density deviation of a data point with respect to its neighbors.\\nLocal outliers have higher LOF values, indicating lower density compared to their neighbors.\\n'"
      ]
     },
     "execution_count": 7,
     "metadata": {},
     "output_type": "execute_result"
    }
   ],
   "source": [
    "#q9\n",
    "'''\n",
    "Measures the local density deviation of a data point with respect to its neighbors.\n",
    "Local outliers have higher LOF values, indicating lower density compared to their neighbors.\n",
    "'''"
   ]
  },
  {
   "cell_type": "code",
   "execution_count": null,
   "id": "e443213d-deaa-40cb-8b1e-3971fa960dfc",
   "metadata": {},
   "outputs": [],
   "source": [
    "#q10\n",
    "'''\n",
    "Randomly selects features and splits data until each data point is isolated.\n",
    "Global outliers are isolated quickly, requiring fewer splits.\n",
    "Anomaly score is based on the number of splits needed to isolate a data point."
   ]
  }
 ],
 "metadata": {
  "kernelspec": {
   "display_name": "Python 3 (ipykernel)",
   "language": "python",
   "name": "python3"
  },
  "language_info": {
   "codemirror_mode": {
    "name": "ipython",
    "version": 3
   },
   "file_extension": ".py",
   "mimetype": "text/x-python",
   "name": "python",
   "nbconvert_exporter": "python",
   "pygments_lexer": "ipython3",
   "version": "3.10.8"
  }
 },
 "nbformat": 4,
 "nbformat_minor": 5
}
